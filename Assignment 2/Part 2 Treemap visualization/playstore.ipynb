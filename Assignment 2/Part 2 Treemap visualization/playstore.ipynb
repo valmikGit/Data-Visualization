{
 "cells": [
  {
   "cell_type": "code",
   "execution_count": null,
   "metadata": {},
   "outputs": [],
   "source": [
    "import pandas as pd\n",
    "\n",
    "df = pd.read_csv(r'C:\\Users\\Valmik Belgaonkar\\OneDrive\\Desktop\\Data-Visualization\\Assignment 2\\Part 2 Treemap visualization\\Google-Playstore-Preprocessed.csv')\n",
    "df"
   ]
  },
  {
   "cell_type": "code",
   "execution_count": null,
   "metadata": {},
   "outputs": [],
   "source": [
    "df.columns"
   ]
  },
  {
   "cell_type": "code",
   "execution_count": null,
   "metadata": {},
   "outputs": [],
   "source": [
    "# Select relevant columns for treemap visualization\n",
    "# Here, we assume 'Category' and 'Installs' are relevant for hierarchical structure\n",
    "treemap_data = df[['Category', 'Minimum Installs', 'Content Rating', 'Ad Supported', 'Editors Choice', 'In App Purchases', 'Free']]\n",
    "\n",
    "# Convert to JSON and save\n",
    "treemap_data.to_json('treemap_data.json', orient='records')\n",
    "\n",
    "# Convert to CSV file\n",
    "treemap_data.to_csv('treemap_data.csv')"
   ]
  },
  {
   "cell_type": "code",
   "execution_count": null,
   "metadata": {},
   "outputs": [],
   "source": [
    "df['Category'].unique()"
   ]
  },
  {
   "cell_type": "code",
   "execution_count": null,
   "metadata": {},
   "outputs": [],
   "source": [
    "df['Content Rating'].unique()"
   ]
  },
  {
   "cell_type": "code",
   "execution_count": null,
   "metadata": {},
   "outputs": [],
   "source": [
    "df['Size'].unique()"
   ]
  },
  {
   "cell_type": "code",
   "execution_count": null,
   "metadata": {},
   "outputs": [],
   "source": [
    "df['Ad Supported'].unique()"
   ]
  },
  {
   "cell_type": "code",
   "execution_count": null,
   "metadata": {},
   "outputs": [],
   "source": [
    "df['Free'].unique()"
   ]
  },
  {
   "cell_type": "code",
   "execution_count": null,
   "metadata": {},
   "outputs": [],
   "source": [
    "df['In App Purchases'].unique()"
   ]
  },
  {
   "cell_type": "code",
   "execution_count": null,
   "metadata": {},
   "outputs": [],
   "source": [
    "df['Editors Choice'].unique()"
   ]
  },
  {
   "cell_type": "code",
   "execution_count": null,
   "metadata": {},
   "outputs": [],
   "source": [
    "filtered_df = df[df['Editors Choice'] == True]\n",
    "filtered_df"
   ]
  },
  {
   "cell_type": "code",
   "execution_count": null,
   "metadata": {},
   "outputs": [],
   "source": [
    "filtered_df = df[df['Free'] == False]\n",
    "filtered_df"
   ]
  },
  {
   "cell_type": "code",
   "execution_count": null,
   "metadata": {},
   "outputs": [],
   "source": [
    "filtered_df = df[df['Content Rating'] == 'Everyone']\n",
    "filtered_df"
   ]
  },
  {
   "cell_type": "code",
   "execution_count": null,
   "metadata": {},
   "outputs": [],
   "source": [
    "filtered_df = df[df['In App Purchases'] == True]\n",
    "filtered_df"
   ]
  },
  {
   "cell_type": "markdown",
   "metadata": {},
   "source": [
    "1. Category > Content Rating > Ad Supported\n",
    "\n",
    "Story: This treemap shows app distribution across categories and content ratings, while also visualizing ad-supported status. Larger blocks represent popular categories, with further divisions based on content suitability for various age groups.\n",
    "\n",
    "Inference: By observing the color patterns within each category, users could determine if certain types of apps (like \"Games\" or \"Social\") tend to be more ad-supported within specific content ratings (e.g., \"Everyone\" vs. \"Teen\"). High ad-support prevalence in categories aimed at younger audiences could signal a reliance on ads for monetization, whereas ad-free apps might appear more in educational or productivity categories.\n",
    "\n",
    "2. Category > Editors Choice > Free\n",
    "\n",
    "Story: This treemap groups apps by category, with further breakdowns indicating if an app is an \"Editor’s Choice\" and whether it's free. Users can see the prominence of \"Editor’s Choice\" apps in each category and whether these apps are more likely to be free or paid.\n",
    "\n",
    "Inference: Categories like \"Health & Fitness\" or \"Education\" may have a higher percentage of Editor’s Choice apps, perhaps reflecting higher quality or curated content. If Editor’s Choice apps in certain categories are predominantly free, this could indicate an effort to attract users through high-quality, free apps with optional paid upgrades or in-app purchases.\n",
    "\n",
    "3. Minimum Installs > Category > Ad Supported\n",
    "\n",
    "Story: This hierarchy highlights categories with high minimum installs and whether they rely on ads. High install numbers indicate popular categories, and ad support status helps understand monetization models.\n",
    "\n",
    "Inference: Popular categories like \"Social\" or \"Entertainment\" may have large blocks, and high ad-support among high-install apps suggests dependency on ads for revenue. This insight could be useful for developers targeting popular, ad-supported niches for their monetization strategies.\n",
    "\n",
    "4. Content Rating > Free > In App Purchases\n",
    "\n",
    "Story: Here, the treemap categorizes apps by content rating, indicating if they are free and have in-app purchases. This hierarchy helps understand monetization trends across content suitability levels.\n",
    "\n",
    "Inference: Apps with an \"Everyone\" rating may appear in large numbers, with a split showing that many are free with optional in-app purchases, common in games or entertainment for younger audiences. Apps rated \"Teen\" or \"Mature\" might show fewer free apps, possibly reflecting a trend of paid apps or more ad-supported revenue models for specific demographics.\n",
    "\n",
    "5. Ad Supported > Free > Minimum Installs\n",
    "\n",
    "Story: This treemap shows ad-supported status first, then whether apps are free, and finally the minimum installs. This allows users to quickly gauge the relationship between monetization (ads and freemium model) and popularity.\n",
    "\n",
    "Inference: The treemap may reveal that ad-supported, free apps have higher installs, common in categories with casual games or social networking, as free and ad-supported apps are accessible to a broad audience. Conversely, ad-free apps with lower installs might indicate niche or premium markets, where users pay for an ad-free experience.\n",
    "\n",
    "6. Category > Minimum Installs > Content Rating\n",
    "\n",
    "Story: This visualization categorizes apps by popularity within each category, then by age-appropriate ratings. It helps highlight the most downloaded apps within categories and their intended audience.\n",
    "\n",
    "Inference: Categories like \"Games\" or \"Productivity\" with high installs and an \"Everyone\" content rating indicate broad appeal, potentially driving more ad impressions and user engagement. In contrast, high installs in \"Business\" or \"Finance\" with \"Mature\" ratings might signal niche apps with targeted features.\n",
    "\n",
    "7. Editors Choice > Free > In App Purchases\n",
    "\n",
    "Story: This treemap highlights Editor’s Choice apps by their availability as free or paid, and whether they offer in-app purchases. It showcases premium apps’ monetization structures.\n",
    "\n",
    "Inference: Editor’s Choice apps that are free with in-app purchases may indicate a high-quality freemium model in categories like \"Health & Fitness\" or \"Education.\" Paid Editor’s Choice apps without in-app purchases might indicate full-featured apps targeted at users willing to pay upfront for quality or exclusive content.\n",
    "\n",
    "8. Content Rating > Category > Ad Supported\n",
    "\n",
    "Story: This treemap categorizes apps by their age suitability, further broken down by category and ad support status. It shows content rating trends across different types of apps.\n",
    "\n",
    "Inference: For example, \"Everyone\" rated apps that are ad-supported may be clustered in \"Games\" or \"Entertainment,\" indicating that ads are frequently used to monetize content for younger audiences. Meanwhile, fewer ad-supported apps in \"Education\" or \"Productivity\" categories might suggest alternative revenue strategies in these fields."
   ]
  },
  {
   "cell_type": "markdown",
   "metadata": {},
   "source": [
    "Insights from Color Slider Adjustment\n",
    "\n",
    "With the interactive color slider, users can fine-tune the display by emphasizing certain percentages of app types, installs, or monetization methods within each treemap. Here’s how this can further enhance storytelling:\n",
    "\n",
    "Highlighting High-Install Apps: Moving the slider to highlight blocks with higher minimum installs could emphasize popular app types or categories. This might reveal which content ratings or ad-supported apps dominate certain user demographics.\n",
    "Monetization Insights: Adjusting color to emphasize free vs. paid apps, or ad-supported vs. ad-free, allows users to quickly assess monetization strategies within categories. Users could see if specific types of monetization (like in-app purchases) are more common in high-traffic or niche categories.\n",
    "\n",
    "Target Audience Analysis: By focusing colors on different content ratings, users could visually grasp how app categories align with specific age groups and which monetization models work best for each."
   ]
  }
 ],
 "metadata": {
  "kernelspec": {
   "display_name": "dvenv",
   "language": "python",
   "name": "python3"
  },
  "language_info": {
   "codemirror_mode": {
    "name": "ipython",
    "version": 3
   },
   "file_extension": ".py",
   "mimetype": "text/x-python",
   "name": "python",
   "nbconvert_exporter": "python",
   "pygments_lexer": "ipython3",
   "version": "3.12.4"
  }
 },
 "nbformat": 4,
 "nbformat_minor": 2
}
