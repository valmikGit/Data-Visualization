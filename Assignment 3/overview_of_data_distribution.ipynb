{
 "cells": [
  {
   "cell_type": "markdown",
   "metadata": {},
   "source": [
    "## Overview of Data Distribution"
   ]
  },
  {
   "cell_type": "markdown",
   "metadata": {},
   "source": [
    "### Step 1: Import Libraries and Load Data"
   ]
  },
  {
   "cell_type": "code",
   "execution_count": null,
   "metadata": {},
   "outputs": [],
   "source": [
    "import pandas as pd\n",
    "import numpy as np\n",
    "import matplotlib.pyplot as plt\n",
    "import seaborn as sns\n",
    "\n",
    "# Load your dataset (replace 'dataset.csv' with your file)\n",
    "df = pd.read_csv('Google-Playstore-Preprocessed.csv')\n",
    "\n",
    "# Display a summary of the dataset\n",
    "print(\"Dataset Overview:\")\n",
    "print(df.info())\n",
    "print(\"\\nMissing Values:\")\n",
    "print(df.isnull().sum())"
   ]
  },
  {
   "cell_type": "markdown",
   "metadata": {},
   "source": [
    "### Step 2: Visualize Data Distributions"
   ]
  },
  {
   "cell_type": "code",
   "execution_count": null,
   "metadata": {},
   "outputs": [],
   "source": [
    "# Numerical columns for visualization\n",
    "numerical_features = ['Rating', 'Price', 'Rating Count']\n",
    "\n",
    "for feature in numerical_features:\n",
    "    plt.figure(figsize=(8, 5))\n",
    "    sns.histplot(df[feature], kde=True, bins=30, color='skyblue')\n",
    "    plt.title(f'Distribution of {feature}')\n",
    "    plt.xlabel(feature)\n",
    "    plt.ylabel('Frequency')\n",
    "    plt.show()"
   ]
  },
  {
   "cell_type": "code",
   "execution_count": null,
   "metadata": {},
   "outputs": [],
   "source": [
    "# Categorical column visualization\n",
    "plt.figure(figsize=(12, 6))\n",
    "sns.countplot(y='Category', data=df, order=df['Category'].value_counts().index, palette='viridis')\n",
    "plt.title('Distribution of Apps by Category')\n",
    "plt.xlabel('Number of Apps')\n",
    "plt.ylabel('Category')\n",
    "plt.show()\n"
   ]
  },
  {
   "cell_type": "markdown",
   "metadata": {},
   "source": [
    "### Step 3: Feedback Loop for Data Transformation"
   ]
  },
  {
   "cell_type": "code",
   "execution_count": null,
   "metadata": {},
   "outputs": [],
   "source": [
    "# Handle Missing Values and Outliers\n",
    "\n",
    "# Provide feedback to the user\n",
    "print(\"\\nFeedback Options:\")\n",
    "print(\"1. Handle missing values (impute missing ratings).\")\n",
    "print(\"2. Cap outliers in 'Price' or 'Rating Count'.\")\n",
    "print(\"3. Proceed without transformation.\")\n",
    "\n",
    "# User input\n",
    "choice = int(input(\"Enter your choice (1, 2, or 3): \"))\n",
    "\n",
    "if choice == 1:\n",
    "    # Handle missing values by imputing with the mean\n",
    "    if df['Rating'].isnull().sum() > 0:\n",
    "        mean_rating = df['Rating'].mean()\n",
    "        df['Rating'].fillna(mean_rating, inplace=True)\n",
    "        print(f\"Missing 'Rating' values filled with mean: {mean_rating:.2f}\")\n",
    "    else:\n",
    "        print(\"No missing values in 'Rating' to handle.\")\n",
    "elif choice == 2:\n",
    "    # Handle outliers by capping at the 99th percentile\n",
    "    price_cap = df['Price'].quantile(0.99)\n",
    "    rating_count_cap = df['Rating Count'].quantile(0.99)\n",
    "    df['Price'] = np.where(df['Price'] > price_cap, price_cap, df['Price'])\n",
    "    df['Rating Count'] = np.where(df['Rating Count'] > rating_count_cap, rating_count_cap, df['Rating Count'])\n",
    "    print(f\"'Price' and 'Rating Count' capped at 99th percentiles: {price_cap:.2f}, {rating_count_cap:.0f}\")\n",
    "elif choice == 3:\n",
    "    print(\"Proceeding without transformation.\")\n",
    "else:\n",
    "    print(\"Invalid choice. No transformations applied.\")"
   ]
  },
  {
   "cell_type": "markdown",
   "metadata": {},
   "source": [
    "### Step 4: Re-Evaluate Distributions Post-Transformation"
   ]
  },
  {
   "cell_type": "code",
   "execution_count": null,
   "metadata": {},
   "outputs": [],
   "source": [
    "# Re-plot distributions to compare before and after transformations\n",
    "print(\"\\nRe-evaluating distributions after transformations...\")\n",
    "\n",
    "for feature in numerical_features:\n",
    "    plt.figure(figsize=(8, 5))\n",
    "    sns.histplot(df[feature], kde=True, bins=30, color='lightcoral')\n",
    "    plt.title(f'Revised Distribution of {feature}')\n",
    "    plt.xlabel(feature)\n",
    "    plt.ylabel('Frequency')\n",
    "    plt.show()\n",
    "\n",
    "# Save the transformed dataset for further use\n",
    "df.to_csv('transformed_dataset.csv', index=False)\n",
    "print(\"\\nTransformed dataset saved as 'transformed_dataset.csv'.\")\n"
   ]
  }
 ],
 "metadata": {
  "kernelspec": {
   "display_name": "dvenv",
   "language": "python",
   "name": "python3"
  },
  "language_info": {
   "codemirror_mode": {
    "name": "ipython",
    "version": 3
   },
   "file_extension": ".py",
   "mimetype": "text/x-python",
   "name": "python",
   "nbconvert_exporter": "python",
   "pygments_lexer": "ipython3",
   "version": "3.12.4"
  }
 },
 "nbformat": 4,
 "nbformat_minor": 2
}
