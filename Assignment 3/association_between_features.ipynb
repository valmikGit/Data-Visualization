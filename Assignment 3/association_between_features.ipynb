{
 "cells": [
  {
   "cell_type": "markdown",
   "metadata": {},
   "source": [
    "## 5. Association Between Features"
   ]
  },
  {
   "cell_type": "markdown",
   "metadata": {},
   "source": [
    "### Step 1: Import Libraries and Load Data"
   ]
  },
  {
   "cell_type": "code",
   "execution_count": null,
   "metadata": {},
   "outputs": [],
   "source": [
    "import pandas as pd\n",
    "import numpy as np\n",
    "import seaborn as sns\n",
    "import matplotlib.pyplot as plt\n",
    "\n",
    "# Load dataset (replace 'dataset.csv' with your file path)\n",
    "df = pd.read_csv('dataset.csv')\n",
    "\n",
    "# Display dataset overview\n",
    "print(\"Dataset Overview:\")\n",
    "print(df.info())\n"
   ]
  },
  {
   "cell_type": "markdown",
   "metadata": {},
   "source": [
    "### Step 2: Data Preprocessing"
   ]
  },
  {
   "cell_type": "code",
   "execution_count": null,
   "metadata": {},
   "outputs": [],
   "source": [
    "# Select Relevant Columns and Handle Missing Values\n",
    "\n",
    "# Select numerical columns for correlation analysis\n",
    "columns_of_interest = ['Rating', 'Size', 'Price', 'Minimum Installs', 'Maximum Installs']\n",
    "df_subset = df[columns_of_interest]\n",
    "\n",
    "# Handle missing values\n",
    "df_subset['Size'] = pd.to_numeric(df_subset['Size'], errors='coerce')  # Convert size to numeric\n",
    "df_subset['Price'] = pd.to_numeric(df_subset['Price'], errors='coerce')  # Convert price to numeric\n",
    "df_subset = df_subset.dropna()  # Drop rows with missing values\n",
    "df_subset['Price'] = df_subset['Price'].fillna(0)  # Replace missing price with 0\n",
    "df_subset['Size'] = df_subset['Size'].fillna(df_subset['Size'].mean())  # Replace missing size with mean\n"
   ]
  },
  {
   "cell_type": "markdown",
   "metadata": {},
   "source": [
    "### Step 3: Visualize Correlations Using Heatmap"
   ]
  },
  {
   "cell_type": "code",
   "execution_count": null,
   "metadata": {},
   "outputs": [],
   "source": [
    "# Compute correlation matrix\n",
    "correlation_matrix = df_subset.corr()\n",
    "\n",
    "# Plot heatmap\n",
    "plt.figure(figsize=(10, 6))\n",
    "sns.heatmap(correlation_matrix, annot=True, cmap='coolwarm', fmt=\".2f\", vmin=-1, vmax=1)\n",
    "plt.title('Correlation Between Features', fontsize=16)\n",
    "plt.show()\n",
    "\n",
    "# Highlight strong correlations\n",
    "strong_correlations = correlation_matrix[(correlation_matrix > 0.7) | (correlation_matrix < -0.7)]\n",
    "print(\"Strong correlations (> 0.7 or < -0.7):\\n\", strong_correlations)\n"
   ]
  },
  {
   "cell_type": "markdown",
   "metadata": {},
   "source": [
    "### Step 4: Feedback Loop with User Interaction"
   ]
  },
  {
   "cell_type": "code",
   "execution_count": null,
   "metadata": {},
   "outputs": [],
   "source": [
    "# Suggest Feature Engineering Based on Correlations\n",
    "\n",
    "print(\"\\nFeedback Options:\")\n",
    "print(\"1. Create a new feature: Price per Install.\")\n",
    "print(\"2. Filter data by specific criteria (e.g., apps with ratings above 4.0).\")\n",
    "print(\"3. Remove highly correlated features and reanalyze.\")\n",
    "print(\"4. Proceed without changes.\")\n",
    "\n",
    "# User input\n",
    "choice = int(input(\"Enter your choice (1, 2, 3, or 4): \"))\n",
    "\n",
    "if choice == 1:\n",
    "    # Create a new feature: Price per Install\n",
    "    df_subset['Price per Install'] = df_subset['Price'] / df_subset['Maximum Installs']\n",
    "    df_subset['Price per Install'].replace([np.inf, -np.inf], 0, inplace=True)  # Handle division by zero\n",
    "    print(\"Feature 'Price per Install' added. Recalculating correlations...\")\n",
    "elif choice == 2:\n",
    "    # Filter data based on criteria\n",
    "    df_subset = df_subset[df_subset['Rating'] > 4.0]\n",
    "    print(\"Filtered data for apps with ratings above 4.0. Recalculating correlations...\")\n",
    "elif choice == 3:\n",
    "    # Remove one of each pair of highly correlated features\n",
    "    high_corr_pairs = [\n",
    "        (i, j) for i in correlation_matrix.columns for j in correlation_matrix.columns\n",
    "        if (i != j) and abs(correlation_matrix.loc[i, j]) > 0.7\n",
    "    ]\n",
    "    for i, j in high_corr_pairs:\n",
    "        if i in df_subset.columns:\n",
    "            df_subset = df_subset.drop(columns=[i])\n",
    "            print(f\"Removed highly correlated feature: {i}\")\n",
    "            break\n",
    "elif choice == 4:\n",
    "    print(\"Proceeding without changes.\")\n",
    "else:\n",
    "    print(\"Invalid choice. Proceeding without changes.\")\n"
   ]
  },
  {
   "cell_type": "markdown",
   "metadata": {},
   "source": [
    "### Step 5: Recalculate and Visualize Updated Correlations"
   ]
  },
  {
   "cell_type": "code",
   "execution_count": null,
   "metadata": {},
   "outputs": [],
   "source": [
    "# Recompute correlation matrix\n",
    "updated_correlation_matrix = df_subset.corr()\n",
    "\n",
    "# Plot updated heatmap\n",
    "plt.figure(figsize=(10, 6))\n",
    "sns.heatmap(updated_correlation_matrix, annot=True, cmap='coolwarm', fmt=\".2f\", vmin=-1, vmax=1)\n",
    "plt.title('Updated Correlation Between Features', fontsize=16)\n",
    "plt.show()\n",
    "\n",
    "# Highlight strong correlations in the updated matrix\n",
    "updated_strong_correlations = updated_correlation_matrix[(updated_correlation_matrix > 0.7) | (updated_correlation_matrix < -0.7)]\n",
    "print(\"Updated Strong correlations (> 0.7 or < -0.7):\\n\", updated_strong_correlations)\n"
   ]
  }
 ],
 "metadata": {
  "kernelspec": {
   "display_name": "dvenv",
   "language": "python",
   "name": "python3"
  },
  "language_info": {
   "name": "python",
   "version": "3.12.4"
  }
 },
 "nbformat": 4,
 "nbformat_minor": 2
}
