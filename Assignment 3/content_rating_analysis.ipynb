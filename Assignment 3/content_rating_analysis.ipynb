{
 "cells": [
  {
   "cell_type": "markdown",
   "metadata": {},
   "source": [
    "## 8. Content Rating Analysis"
   ]
  },
  {
   "cell_type": "markdown",
   "metadata": {},
   "source": [
    "### Step 1: Import Libraries and Load Data"
   ]
  },
  {
   "cell_type": "code",
   "execution_count": null,
   "metadata": {},
   "outputs": [],
   "source": [
    "import pandas as pd\n",
    "import seaborn as sns\n",
    "import matplotlib.pyplot as plt\n",
    "\n",
    "# Load dataset (replace 'dataset.csv' with your file path)\n",
    "df = pd.read_csv('dataset.csv')\n",
    "\n",
    "# Overview of dataset\n",
    "print(\"Dataset Overview:\")\n",
    "print(df.info())\n"
   ]
  },
  {
   "cell_type": "markdown",
   "metadata": {},
   "source": [
    "### Step 2: Data Preprocessing"
   ]
  },
  {
   "cell_type": "code",
   "execution_count": null,
   "metadata": {},
   "outputs": [],
   "source": [
    "# Handle missing values and clean the Content Rating and Category columns.\n",
    "\n",
    "# Handle missing values in 'Content Rating' and 'Category'\n",
    "df['Content Rating'] = df['Content Rating'].fillna('Unknown')  # Fill missing content ratings with 'Unknown'\n",
    "df['Category'] = df['Category'].fillna('Other')  # Fill missing categories with 'Other'\n",
    "\n",
    "# Check unique values in Content Rating and Category\n",
    "print(\"\\nUnique Content Ratings:\", df['Content Rating'].unique())\n",
    "print(\"\\nUnique Categories:\", df['Category'].unique())\n"
   ]
  },
  {
   "cell_type": "markdown",
   "metadata": {},
   "source": [
    "### Step 3: Visualization"
   ]
  },
  {
   "cell_type": "code",
   "execution_count": null,
   "metadata": {},
   "outputs": [],
   "source": [
    "# Stacked Bar Chart to Show Distribution of Content Rating Across Categories\n",
    "\n",
    "# Generate a stacked bar chart showing content rating distribution across categories\n",
    "plt.figure(figsize=(12, 8))\n",
    "category_content_rating_counts = pd.crosstab(df['Category'], df['Content Rating'])\n",
    "category_content_rating_counts.plot(kind='bar', stacked=True, figsize=(14, 7), colormap='Set3')\n",
    "\n",
    "plt.title('Content Rating Distribution Across Categories', fontsize=16)\n",
    "plt.xlabel('Category', fontsize=14)\n",
    "plt.ylabel('Number of Apps', fontsize=14)\n",
    "plt.xticks(rotation=90)\n",
    "plt.legend(title='Content Rating', title_fontsize='13', fontsize='12')\n",
    "plt.tight_layout()\n",
    "plt.show()\n"
   ]
  },
  {
   "cell_type": "markdown",
   "metadata": {},
   "source": [
    "### Step 4: Feedback Loop for User Interaction"
   ]
  },
  {
   "cell_type": "code",
   "execution_count": null,
   "metadata": {},
   "outputs": [],
   "source": [
    "# User Interaction to Aggregate Categories Based on Similar Content Ratings\n",
    "\n",
    "# Prompt user for interaction to aggregate categories based on content ratings\n",
    "print(\"\\nFeedback Options:\")\n",
    "print(\"1. Merge content ratings categories with fewer than 10 apps.\")\n",
    "print(\"2. Merge similar content ratings (e.g., 'Everyone' and 'Everyone 10+').\")\n",
    "print(\"3. Proceed with the original content ratings.\")\n",
    "choice = int(input(\"Enter your choice (1, 2, or 3): \"))\n",
    "\n",
    "if choice == 1:\n",
    "    # Merge categories with fewer than 10 apps in content rating\n",
    "    content_rating_counts = df.groupby(['Category', 'Content Rating']).size().unstack().fillna(0)\n",
    "    small_categories = content_rating_counts[content_rating_counts.sum(axis=1) < 10].index\n",
    "    df['Content Rating'] = df['Content Rating'].replace(dict.fromkeys(small_categories, 'Other'))\n",
    "    print(f\"Aggregated small content rating categories into 'Other'.\")\n",
    "elif choice == 2:\n",
    "    # Merge similar content rating categories (e.g., 'Everyone' and 'Everyone 10+')\n",
    "    df['Content Rating'] = df['Content Rating'].replace({'Everyone 10+': 'Everyone', 'Mature 17+': 'Teen'})\n",
    "    print(f\"Aggregated similar content rating categories.\")\n",
    "elif choice == 3:\n",
    "    print(\"Proceeding with the original dataset.\")\n",
    "else:\n",
    "    print(\"Invalid choice. Proceeding with the original dataset.\")\n",
    "\n",
    "# Replot stacked bar chart after user input\n",
    "plt.figure(figsize=(12, 8))\n",
    "category_content_rating_counts = pd.crosstab(df['Category'], df['Content Rating'])\n",
    "category_content_rating_counts.plot(kind='bar', stacked=True, figsize=(14, 7), colormap='Set3')\n",
    "\n",
    "plt.title('Content Rating Distribution Across Categories (After Feedback)', fontsize=16)\n",
    "plt.xlabel('Category', fontsize=14)\n",
    "plt.ylabel('Number of Apps', fontsize=14)\n",
    "plt.xticks(rotation=90)\n",
    "plt.legend(title='Content Rating', title_fontsize='13', fontsize='12')\n",
    "plt.tight_layout()\n",
    "plt.show()\n"
   ]
  }
 ],
 "metadata": {
  "kernelspec": {
   "display_name": "dvenv",
   "language": "python",
   "name": "python3"
  },
  "language_info": {
   "name": "python",
   "version": "3.12.4"
  }
 },
 "nbformat": 4,
 "nbformat_minor": 2
}
