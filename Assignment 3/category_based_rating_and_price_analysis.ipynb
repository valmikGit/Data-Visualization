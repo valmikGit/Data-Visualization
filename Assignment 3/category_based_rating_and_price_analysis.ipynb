{
 "cells": [
  {
   "cell_type": "markdown",
   "metadata": {},
   "source": [
    "## 3. Category-Based Rating and Price Analysis"
   ]
  },
  {
   "cell_type": "markdown",
   "metadata": {},
   "source": [
    "### Step 1: Import Libraries and Load Data"
   ]
  },
  {
   "cell_type": "code",
   "execution_count": null,
   "metadata": {},
   "outputs": [],
   "source": [
    "import pandas as pd\n",
    "import plotly.express as px\n",
    "import numpy as np\n",
    "\n",
    "# Load dataset (replace 'dataset.csv' with your file path)\n",
    "df = pd.read_csv('dataset.csv')\n",
    "\n",
    "# Display dataset overview\n",
    "print(\"Dataset Overview:\")\n",
    "print(df.info())\n",
    "print(\"\\nSample Data:\")\n",
    "print(df.head())\n"
   ]
  },
  {
   "cell_type": "markdown",
   "metadata": {},
   "source": [
    "### Step 2: Create Treemap Visualization"
   ]
  },
  {
   "cell_type": "code",
   "execution_count": null,
   "metadata": {},
   "outputs": [],
   "source": [
    "# Initial Treemap\n",
    "\n",
    "# Create treemap for category-based analysis\n",
    "fig = px.treemap(\n",
    "    df,\n",
    "    path=['Category'],  # Group by category\n",
    "    values='Price',     # Size of blocks determined by price\n",
    "    color='Rating',     # Color based on ratings\n",
    "    title=\"Category-Based Price and Rating Analysis\",\n",
    "    color_continuous_scale='viridis'\n",
    ")\n",
    "fig.update_traces(textinfo='label+value+percent entry')\n",
    "fig.show()"
   ]
  },
  {
   "cell_type": "markdown",
   "metadata": {},
   "source": [
    "### Step 3: Feedback Loop for Transformation"
   ]
  },
  {
   "cell_type": "code",
   "execution_count": null,
   "metadata": {},
   "outputs": [],
   "source": [
    "# Handle Outliers and Inconsistencies\n",
    "\n",
    "# Identify potential issues in Price column (e.g., extreme values)\n",
    "print(\"\\nPrice Summary:\")\n",
    "print(df['Price'].describe())\n",
    "\n",
    "# Provide user options for transformation\n",
    "print(\"\\nFeedback Options:\")\n",
    "print(\"1. Remove outliers in the 'Price' column (above 99th percentile).\")\n",
    "print(\"2. Normalize the 'Price' column (min-max scaling).\")\n",
    "print(\"3. Proceed without transformation.\")\n",
    "\n",
    "# User input\n",
    "choice = int(input(\"Enter your choice (1, 2, or 3): \"))\n",
    "\n",
    "if choice == 1:\n",
    "    # Remove outliers in Price\n",
    "    price_cap = df['Price'].quantile(0.99)\n",
    "    df = df[df['Price'] <= price_cap]\n",
    "    print(f\"Outliers removed. Price capped at 99th percentile: {price_cap:.2f}\")\n",
    "elif choice == 2:\n",
    "    # Normalize Price column\n",
    "    min_price = df['Price'].min()\n",
    "    max_price = df['Price'].max()\n",
    "    df['Price'] = (df['Price'] - min_price) / (max_price - min_price)\n",
    "    print(f\"Price column normalized (min: {min_price:.2f}, max: {max_price:.2f}).\")\n",
    "elif choice == 3:\n",
    "    print(\"Proceeding without transformation.\")\n",
    "else:\n",
    "    print(\"Invalid choice. No transformations applied.\")"
   ]
  },
  {
   "cell_type": "markdown",
   "metadata": {},
   "source": [
    "### Step 4: Re-Visualize Treemap Post-Transformation"
   ]
  },
  {
   "cell_type": "code",
   "execution_count": null,
   "metadata": {},
   "outputs": [],
   "source": [
    "# Create updated treemap\n",
    "fig = px.treemap(\n",
    "    df,\n",
    "    path=['Category'],  # Group by category\n",
    "    values='Price',     # Size of blocks determined by price\n",
    "    color='Rating',     # Color based on ratings\n",
    "    title=\"Updated Category-Based Price and Rating Analysis\",\n",
    "    color_continuous_scale='plasma'\n",
    ")\n",
    "fig.update_traces(textinfo='label+value+percent entry')\n",
    "fig.show()"
   ]
  },
  {
   "cell_type": "markdown",
   "metadata": {},
   "source": [
    "### Step 5: Sunburst Visualization (Optional Alternative)"
   ]
  },
  {
   "cell_type": "code",
   "execution_count": null,
   "metadata": {},
   "outputs": [],
   "source": [
    "# Create sunburst chart\n",
    "fig = px.sunburst(\n",
    "    df,\n",
    "    path=['Category'],  # Group by category\n",
    "    values='Price',     # Size of blocks determined by price\n",
    "    color='Rating',     # Color based on ratings\n",
    "    title=\"Category-Based Price and Rating Analysis (Sunburst)\",\n",
    "    color_continuous_scale='magma'\n",
    ")\n",
    "fig.update_traces(textinfo='label+percent parent+percent entry')\n",
    "fig.show()\n"
   ]
  }
 ],
 "metadata": {
  "kernelspec": {
   "display_name": "dvenv",
   "language": "python",
   "name": "python3"
  },
  "language_info": {
   "name": "python",
   "version": "3.12.4"
  }
 },
 "nbformat": 4,
 "nbformat_minor": 2
}
