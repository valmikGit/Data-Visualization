{
 "cells": [
  {
   "cell_type": "markdown",
   "metadata": {},
   "source": [
    "## 2. Clustering of Apps by Features"
   ]
  },
  {
   "cell_type": "markdown",
   "metadata": {},
   "source": [
    "### Step 1: Import Libraries and Load Data"
   ]
  },
  {
   "cell_type": "code",
   "execution_count": null,
   "metadata": {},
   "outputs": [],
   "source": [
    "import pandas as pd\n",
    "import numpy as np\n",
    "from sklearn.cluster import KMeans\n",
    "from sklearn.preprocessing import StandardScaler\n",
    "from sklearn.decomposition import PCA\n",
    "import matplotlib.pyplot as plt\n",
    "import seaborn as sns\n",
    "\n",
    "# Load dataset\n",
    "df = pd.read_csv('dataset.csv')\n",
    "\n",
    "# Select relevant numerical features for clustering\n",
    "features = ['Rating', 'Rating Count', 'Minimum Installs', 'Price']\n",
    "data = df[features].dropna()  # Drop rows with missing values for simplicity\n",
    "\n",
    "print(\"Dataset loaded and preprocessed for clustering.\")"
   ]
  },
  {
   "cell_type": "markdown",
   "metadata": {},
   "source": [
    "### Step 2: Standardize Features"
   ]
  },
  {
   "cell_type": "code",
   "execution_count": null,
   "metadata": {},
   "outputs": [],
   "source": [
    "# Standardize the features\n",
    "scaler = StandardScaler()\n",
    "data_scaled = scaler.fit_transform(data)\n",
    "\n",
    "print(\"Features standardized.\")"
   ]
  },
  {
   "cell_type": "markdown",
   "metadata": {},
   "source": [
    "### Step 3: Perform Clustering"
   ]
  },
  {
   "cell_type": "code",
   "execution_count": null,
   "metadata": {},
   "outputs": [],
   "source": [
    "# Apply K-Means clustering\n",
    "kmeans = KMeans(n_clusters=3, random_state=42)\n",
    "data['Cluster'] = kmeans.fit_predict(data_scaled)\n",
    "\n",
    "print(\"K-Means clustering applied with 3 clusters.\")"
   ]
  },
  {
   "cell_type": "markdown",
   "metadata": {},
   "source": [
    "### Step 4: Visualize Clusters"
   ]
  },
  {
   "cell_type": "code",
   "execution_count": null,
   "metadata": {},
   "outputs": [],
   "source": [
    "# Using PCA for Dimensionality Reduction\n",
    "\n",
    "# Reduce dimensions to 2D for visualization\n",
    "pca = PCA(n_components=2)\n",
    "data_pca = pca.fit_transform(data_scaled)\n",
    "data['PCA1'] = data_pca[:, 0]\n",
    "data['PCA2'] = data_pca[:, 1]\n",
    "\n",
    "# Scatter plot of clusters\n",
    "plt.figure(figsize=(10, 6))\n",
    "sns.scatterplot(\n",
    "    x='PCA1', y='PCA2', hue='Cluster', data=data, palette='viridis', s=100\n",
    ")\n",
    "plt.title('Clustering of Apps (PCA)')\n",
    "plt.xlabel('Principal Component 1')\n",
    "plt.ylabel('Principal Component 2')\n",
    "plt.legend(title='Cluster')\n",
    "plt.show()"
   ]
  },
  {
   "cell_type": "markdown",
   "metadata": {},
   "source": [
    "### Step 5: Feedback Loop for Refinement"
   ]
  },
  {
   "cell_type": "code",
   "execution_count": null,
   "metadata": {},
   "outputs": [],
   "source": [
    "# Focus on a Specific Cluster\n",
    "\n",
    "# Display cluster summary\n",
    "print(\"Cluster Summary:\")\n",
    "print(data.groupby('Cluster').mean())\n",
    "\n",
    "# Ask user for feedback\n",
    "print(\"\\nFeedback Options:\")\n",
    "print(\"1. Focus on a specific cluster (e.g., Cluster 0).\")\n",
    "print(\"2. Proceed without refinement.\")\n",
    "\n",
    "# User input\n",
    "choice = int(input(\"Enter your choice (1 or 2): \"))\n",
    "\n",
    "if choice == 1:\n",
    "    cluster_choice = int(input(\"Enter the cluster number to focus on (0, 1, or 2): \"))\n",
    "    focused_data = data[data['Cluster'] == cluster_choice].reset_index(drop=True)\n",
    "    print(f\"Focused on Cluster {cluster_choice}.\")\n",
    "else:\n",
    "    focused_data = data\n",
    "    print(\"Proceeding without refinement.\")"
   ]
  },
  {
   "cell_type": "markdown",
   "metadata": {},
   "source": [
    "### Step 6: Re-cluster the Focused Dataset"
   ]
  },
  {
   "cell_type": "code",
   "execution_count": null,
   "metadata": {},
   "outputs": [],
   "source": [
    "# Reapply Clustering\n",
    "\n",
    "# Reapply clustering on the focused dataset\n",
    "if not focused_data.empty:\n",
    "    focused_data_scaled = scaler.fit_transform(focused_data[features])\n",
    "    focused_kmeans = KMeans(n_clusters=2, random_state=42)\n",
    "    focused_data['SubCluster'] = focused_kmeans.fit_predict(focused_data_scaled)\n",
    "\n",
    "    # Re-visualize clusters\n",
    "    pca_focused = PCA(n_components=2)\n",
    "    focused_pca = pca_focused.fit_transform(focused_data_scaled)\n",
    "    focused_data['PCA1'] = focused_pca[:, 0]\n",
    "    focused_data['PCA2'] = focused_pca[:, 1]\n",
    "\n",
    "    plt.figure(figsize=(10, 6))\n",
    "    sns.scatterplot(\n",
    "        x='PCA1', y='PCA2', hue='SubCluster', data=focused_data, palette='coolwarm', s=100\n",
    "    )\n",
    "    plt.title(f'Re-Clustering of Focused Apps (Cluster {cluster_choice})')\n",
    "    plt.xlabel('Principal Component 1')\n",
    "    plt.ylabel('Principal Component 2')\n",
    "    plt.legend(title='SubCluster')\n",
    "    plt.show()\n",
    "else:\n",
    "    print(\"No data to re-cluster.\")"
   ]
  }
 ],
 "metadata": {
  "kernelspec": {
   "display_name": "dvenv",
   "language": "python",
   "name": "python3"
  },
  "language_info": {
   "codemirror_mode": {
    "name": "ipython",
    "version": 3
   },
   "file_extension": ".py",
   "mimetype": "text/x-python",
   "name": "python",
   "nbconvert_exporter": "python",
   "pygments_lexer": "ipython3",
   "version": "3.12.4"
  }
 },
 "nbformat": 4,
 "nbformat_minor": 2
}
