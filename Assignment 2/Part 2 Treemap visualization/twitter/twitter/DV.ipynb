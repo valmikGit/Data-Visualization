{
 "cells": [
  {
   "cell_type": "code",
   "execution_count": 3,
   "metadata": {},
   "outputs": [
    {
     "name": "stdout",
     "output_type": "stream",
     "text": [
      "Warning: Trimmed extra columns in feat_df to match featnames.\n",
      "        source      target           #,  #...   #1  #1.  #11.  #1:   #2  \\\n",
      "0  398874773.0    652193.0   27985216.0   0.0  0.0  0.0   0.0  0.0  0.0   \n",
      "1   18498878.0  14749606.0   14163141.0   0.0  0.0  0.0   0.0  0.0  0.0   \n",
      "2   14305022.0   8479062.0   14142965.0   0.0  0.0  0.0   0.0  0.0  0.0   \n",
      "3      22253.0     12741.0   35357461.0   0.0  0.0  0.0   0.0  0.0  0.0   \n",
      "4   15540222.0  14809096.0  180505807.0   0.0  0.0  1.0   0.0  0.0  0.0   \n",
      "\n",
      "   #2011  ...  @zeeg  @zeldman  @zeldman:  @zephoria:  @zite  @zsims  @東京ドーム  \\\n",
      "0    0.0  ...    0.0       0.0        0.0         0.0    0.0     0.0     0.0   \n",
      "1    0.0  ...    0.0       0.0        0.0         0.0    0.0     0.0     0.0   \n",
      "2    0.0  ...    0.0       0.0        0.0         0.0    0.0     0.0     0.0   \n",
      "3    0.0  ...    0.0       0.0        0.0         0.0    0.0     0.0     0.0   \n",
      "4    0.0  ...    0.0       0.0        0.0         0.0    0.0     0.0     0.0   \n",
      "\n",
      "   @清水寺  @鹿苑寺  circles  \n",
      "0   0.0   0.0  1\\t6735  \n",
      "1   0.0   0.0      NaN  \n",
      "2   0.0   0.0      NaN  \n",
      "3   0.0   0.0      NaN  \n",
      "4   0.0   0.0      NaN  \n",
      "\n",
      "[5 rows x 1367 columns]\n"
     ]
    }
   ],
   "source": [
    "import pandas as pd\n",
    "\n",
    "# Load each file into DataFrames\n",
    "circles_df = pd.read_csv('12831.circles', sep=' ', header=None)\n",
    "edges_df = pd.read_csv('12831.edges', sep=' ', header=None, names=['source', 'target'])\n",
    "egofeat_df = pd.read_csv('12831.egofeat', sep=' ', header=None)\n",
    "feat_df = pd.read_csv('12831.feat', sep=' ', header=None)\n",
    "featnames_df = pd.read_csv('12831.featnames', sep=' ', header=None, names=['index', 'feature_name'])\n",
    "\n",
    "# Check if number of columns in feat_df matches rows in featnames_df\n",
    "num_feat_cols = feat_df.shape[1]\n",
    "num_featnames_rows = featnames_df.shape[0]\n",
    "\n",
    "if num_feat_cols == num_featnames_rows:\n",
    "    feat_df.columns = featnames_df['feature_name']  # Assign feature names to feat_df columns\n",
    "elif num_feat_cols > num_featnames_rows:\n",
    "    # Trim extra columns in feat_df\n",
    "    feat_df = feat_df.iloc[:, :num_featnames_rows]\n",
    "    feat_df.columns = featnames_df['feature_name']\n",
    "    print(\"Warning: Trimmed extra columns in feat_df to match featnames.\")\n",
    "else:\n",
    "    # Add placeholder names if featnames are fewer than feat_df columns\n",
    "    additional_names = [f\"Unnamed_{i}\" for i in range(num_featnames_rows, num_feat_cols)]\n",
    "    feat_df.columns = list(featnames_df['feature_name']) + additional_names\n",
    "    print(\"Warning: Added placeholder names for extra columns in feat_df.\")\n",
    "\n",
    "# Prepare egofeat_df as a single-row DataFrame, with feature names from featnames_df if applicable\n",
    "egofeat_df.columns = feat_df.columns  # Align egofeat_df columns with feat_df after adjustment\n",
    "\n",
    "# Combine the data\n",
    "# 1. Concatenate edges and feat_df\n",
    "combined_df = pd.concat([edges_df, feat_df], axis=1)\n",
    "\n",
    "# 2. Add egofeat data as the ego user's feature row\n",
    "combined_df = pd.concat([combined_df, egofeat_df], axis=0)\n",
    "\n",
    "# 3. Add circles information as a new column\n",
    "combined_df['circles'] = pd.Series(circles_df[0])\n",
    "\n",
    "# Display the combined DataFrame\n",
    "print(combined_df.head())\n"
   ]
  },
  {
   "cell_type": "code",
   "execution_count": 4,
   "metadata": {},
   "outputs": [],
   "source": [
    "combined_df.to_json(\"combined_df.json\", orient=\"records\")"
   ]
  }
 ],
 "metadata": {
  "kernelspec": {
   "display_name": "dvenv",
   "language": "python",
   "name": "python3"
  },
  "language_info": {
   "codemirror_mode": {
    "name": "ipython",
    "version": 3
   },
   "file_extension": ".py",
   "mimetype": "text/x-python",
   "name": "python",
   "nbconvert_exporter": "python",
   "pygments_lexer": "ipython3",
   "version": "3.12.4"
  }
 },
 "nbformat": 4,
 "nbformat_minor": 2
}
