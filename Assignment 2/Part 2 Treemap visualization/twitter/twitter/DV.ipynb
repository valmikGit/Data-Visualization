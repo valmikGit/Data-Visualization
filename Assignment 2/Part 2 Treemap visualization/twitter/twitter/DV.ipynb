{
 "cells": [
  {
   "cell_type": "code",
   "execution_count": 8,
   "metadata": {},
   "outputs": [
    {
     "name": "stdout",
     "output_type": "stream",
     "text": [
      "Warning: Trimmed extra columns in feat_df to match featnames.\n",
      "       source      target           #,  #...   #1  #1.  #11.  #1:   #2  #2011  \\\n",
      "3     22253.0     12741.0   35357461.0   0.0  0.0  0.0   0.0  0.0  0.0    0.0   \n",
      "4  15540222.0  14809096.0  180505807.0   0.0  0.0  1.0   0.0  0.0  0.0    0.0   \n",
      "5   7415132.0  14172562.0  369246180.0   0.0  1.0  0.0   0.0  0.0  0.0    0.0   \n",
      "6  17129553.0  13839772.0   14202711.0   0.0  0.0  0.0   0.0  0.0  0.0    0.0   \n",
      "7  15911247.0  14086492.0        761.0   0.0  0.0  0.0   0.0  0.0  0.0    0.0   \n",
      "\n",
      "   ...  @zeeg  @zeldman  @zeldman:  @zephoria:  @zite  @zsims  @東京ドーム  @清水寺  \\\n",
      "3  ...    0.0       0.0        0.0         0.0    0.0     0.0     0.0   0.0   \n",
      "4  ...    0.0       0.0        0.0         0.0    0.0     0.0     0.0   0.0   \n",
      "5  ...    0.0       0.0        0.0         0.0    0.0     0.0     0.0   0.0   \n",
      "6  ...    0.0       0.0        0.0         0.0    0.0     0.0     0.0   0.0   \n",
      "7  ...    0.0       0.0        0.0         0.0    0.0     0.0     0.0   0.0   \n",
      "\n",
      "   @鹿苑寺  circles  \n",
      "3   0.0      NaN  \n",
      "4   0.0      NaN  \n",
      "5   0.0      NaN  \n",
      "6   0.0      NaN  \n",
      "7   0.0      NaN  \n",
      "\n",
      "[5 rows x 1367 columns]\n"
     ]
    }
   ],
   "source": [
    "import pandas as pd\n",
    "\n",
    "# Load each file into DataFrames\n",
    "circles_df = pd.read_csv('12831.circles', sep=' ', header=None)\n",
    "edges_df = pd.read_csv('12831.edges', sep=' ', header=None, names=['source', 'target'])\n",
    "egofeat_df = pd.read_csv('12831.egofeat', sep=' ', header=None)\n",
    "feat_df = pd.read_csv('12831.feat', sep=' ', header=None)\n",
    "featnames_df = pd.read_csv('12831.featnames', sep=' ', header=None, names=['index', 'feature_name'])\n",
    "\n",
    "# Adjust feat_df columns based on featnames_df\n",
    "num_feat_cols = feat_df.shape[1]\n",
    "num_featnames_rows = featnames_df.shape[0]\n",
    "\n",
    "if num_feat_cols == num_featnames_rows:\n",
    "    feat_df.columns = featnames_df['feature_name']\n",
    "elif num_feat_cols > num_featnames_rows:\n",
    "    feat_df = feat_df.iloc[:, :num_featnames_rows]\n",
    "    feat_df.columns = featnames_df['feature_name']\n",
    "    print(\"Warning: Trimmed extra columns in feat_df to match featnames.\")\n",
    "else:\n",
    "    additional_names = [f\"Unnamed_{i}\" for i in range(num_featnames_rows, num_feat_cols)]\n",
    "    feat_df.columns = list(featnames_df['feature_name']) + additional_names\n",
    "    print(\"Warning: Added placeholder names for extra columns in feat_df.\")\n",
    "\n",
    "# Set egofeat_df columns to match feat_df after adjustment\n",
    "egofeat_df.columns = feat_df.columns\n",
    "\n",
    "# Combine edges_df and feat_df\n",
    "combined_df = pd.concat([edges_df, feat_df], axis=1)\n",
    "\n",
    "# Add ego features as a row for the ego user\n",
    "combined_df = pd.concat([combined_df, egofeat_df], axis=0)\n",
    "\n",
    "# Add circles information as a new column\n",
    "combined_df['circles'] = pd.Series(circles_df[0])\n",
    "\n",
    "# Filter out rows with 'source' or 'target' equal to 398874773\n",
    "combined_df = combined_df[(combined_df['source'] != 398874773) & (combined_df['target'] != 398874773)]\n",
    "\n",
    "# Filter out rows with 'source' or 'target' equal to 18498878\n",
    "combined_df = combined_df[(combined_df['source'] != 18498878) & (combined_df['target'] != 18498878)]\n",
    "\n",
    "# Filter out rows with 'source' or 'target' equal to 18498878\n",
    "combined_df = combined_df[(combined_df['source'] != 14305022) & (combined_df['target'] != 14305022)]\n",
    "\n",
    "# Filter out rows with 'source' or 'target' equal to 1186\n",
    "combined_df = combined_df[(combined_df['source'] != 1186) & (combined_df['target'] != 1186)]\n",
    "\n",
    "# Filter out rows with 'source' or 'target' equal to 1186\n",
    "combined_df = combined_df[(combined_df['source'] != 1678471) & (combined_df['target'] != 1678471)]\n",
    "\n",
    "# Save the combined DataFrame to JSON (or other formats as needed for the HTML code)\n",
    "combined_df.to_json('combined_df.json', orient='records')\n",
    "\n",
    "# Display the filtered DataFrame\n",
    "print(combined_df.head())"
   ]
  }
 ],
 "metadata": {
  "kernelspec": {
   "display_name": "dvenv",
   "language": "python",
   "name": "python3"
  },
  "language_info": {
   "codemirror_mode": {
    "name": "ipython",
    "version": 3
   },
   "file_extension": ".py",
   "mimetype": "text/x-python",
   "name": "python",
   "nbconvert_exporter": "python",
   "pygments_lexer": "ipython3",
   "version": "3.12.4"
  }
 },
 "nbformat": 4,
 "nbformat_minor": 2
}
