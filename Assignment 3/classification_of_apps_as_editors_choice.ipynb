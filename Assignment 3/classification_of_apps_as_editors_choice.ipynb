{
 "cells": [
  {
   "cell_type": "markdown",
   "metadata": {},
   "source": [
    "## 6. Classification of Apps as 'Editor's Choice'"
   ]
  },
  {
   "cell_type": "markdown",
   "metadata": {},
   "source": [
    "### Step 1: Import Libraries and Load Data"
   ]
  },
  {
   "cell_type": "code",
   "execution_count": null,
   "metadata": {},
   "outputs": [],
   "source": [
    "import pandas as pd\n",
    "import numpy as np\n",
    "import seaborn as sns\n",
    "import matplotlib.pyplot as plt\n",
    "from sklearn.model_selection import train_test_split\n",
    "from sklearn.tree import DecisionTreeClassifier, plot_tree\n",
    "from sklearn.metrics import classification_report, accuracy_score\n",
    "from sklearn.preprocessing import LabelEncoder\n",
    "\n",
    "# Load dataset (replace 'dataset.csv' with your file path)\n",
    "df = pd.read_csv('dataset.csv')\n",
    "\n",
    "# Display dataset overview\n",
    "print(\"Dataset Overview:\")\n",
    "print(df.info())\n"
   ]
  },
  {
   "cell_type": "markdown",
   "metadata": {},
   "source": [
    "### Step 2: Data Preprocessing"
   ]
  },
  {
   "cell_type": "code",
   "execution_count": null,
   "metadata": {},
   "outputs": [],
   "source": [
    "# Encode Categorical Features and Handle Missing Values\n",
    "\n",
    "# Encode categorical features\n",
    "label_encoders = {}\n",
    "categorical_columns = ['Category']\n",
    "\n",
    "for column in categorical_columns:\n",
    "    le = LabelEncoder()\n",
    "    df[column] = le.fit_transform(df[column])\n",
    "    label_encoders[column] = le\n",
    "\n",
    "# Handle missing values\n",
    "df['Rating'] = df['Rating'].fillna(df['Rating'].mean())  # Replace missing ratings with mean\n",
    "df['Price'] = pd.to_numeric(df['Price'], errors='coerce').fillna(0)  # Convert and fill missing prices\n",
    "df['Size'] = pd.to_numeric(df['Size'], errors='coerce').fillna(df['Size'].mean())  # Convert and fill missing sizes\n",
    "\n",
    "# Convert 'Editor's Choice' to binary (1 for True, 0 for False)\n",
    "df['Editors Choice'] = df['Editors Choice'].astype(int)\n",
    "\n",
    "# Select features and target variable\n",
    "features = ['Rating', 'Category', 'Price', 'Size', 'Minimum Installs', 'Maximum Installs']\n",
    "target = 'Editors Choice'\n",
    "\n",
    "X = df[features]\n",
    "y = df[target]\n"
   ]
  },
  {
   "cell_type": "markdown",
   "metadata": {},
   "source": [
    "### Step 3: Split Data into Train and Test Sets"
   ]
  },
  {
   "cell_type": "code",
   "execution_count": null,
   "metadata": {},
   "outputs": [],
   "source": [
    "X_train, X_test, y_train, y_test = train_test_split(X, y, test_size=0.2, random_state=42)"
   ]
  },
  {
   "cell_type": "markdown",
   "metadata": {},
   "source": [
    "### Step 4: Train the Decision Tree Classifier"
   ]
  },
  {
   "cell_type": "code",
   "execution_count": null,
   "metadata": {},
   "outputs": [],
   "source": [
    "clf = DecisionTreeClassifier(max_depth=5, random_state=42)\n",
    "clf.fit(X_train, y_train)\n",
    "\n",
    "# Predict on test set\n",
    "y_pred = clf.predict(X_test)\n",
    "\n",
    "# Evaluate performance\n",
    "print(\"Classification Report:\\n\", classification_report(y_test, y_pred))\n",
    "print(\"Accuracy Score:\", accuracy_score(y_test, y_pred))\n"
   ]
  },
  {
   "cell_type": "markdown",
   "metadata": {},
   "source": [
    "### Step 5: Visualize the Decision Tree"
   ]
  },
  {
   "cell_type": "code",
   "execution_count": null,
   "metadata": {},
   "outputs": [],
   "source": [
    "plt.figure(figsize=(20, 10))\n",
    "plot_tree(clf, feature_names=features, class_names=['Not Editors Choice', 'Editors Choice'], filled=True)\n",
    "plt.title('Decision Tree for Editors Choice Classification', fontsize=16)\n",
    "plt.show()\n"
   ]
  },
  {
   "cell_type": "markdown",
   "metadata": {},
   "source": [
    "### Step 6: Feedback Loop with User Interaction"
   ]
  },
  {
   "cell_type": "code",
   "execution_count": null,
   "metadata": {},
   "outputs": [],
   "source": [
    "# Use Feature Importance to Refine Dataset\n",
    "\n",
    "# Display feature importance\n",
    "feature_importance = pd.DataFrame({\n",
    "    'Feature': features,\n",
    "    'Importance': clf.feature_importances_\n",
    "}).sort_values(by='Importance', ascending=False)\n",
    "\n",
    "print(\"Feature Importance:\\n\", feature_importance)\n",
    "\n",
    "# Feedback options\n",
    "print(\"\\nFeedback Options:\")\n",
    "print(\"1. Drop less important features (Importance < 0.1).\")\n",
    "print(\"2. Re-train the model with top features only.\")\n",
    "print(\"3. Add new engineered features (e.g., Price per Install).\")\n",
    "print(\"4. Proceed without changes.\")\n",
    "\n",
    "# User input\n",
    "choice = int(input(\"Enter your choice (1, 2, 3, or 4): \"))\n",
    "\n",
    "if choice == 1:\n",
    "    # Drop less important features\n",
    "    important_features = feature_importance[feature_importance['Importance'] >= 0.1]['Feature']\n",
    "    X = df[important_features]\n",
    "    print(f\"Retained Features: {list(important_features)}\")\n",
    "elif choice == 2:\n",
    "    # Re-train with top features\n",
    "    top_features = feature_importance.head(3)['Feature']\n",
    "    X = df[top_features]\n",
    "    print(f\"Using Top Features: {list(top_features)}\")\n",
    "elif choice == 3:\n",
    "    # Add new feature\n",
    "    df['Price per Install'] = df['Price'] / df['Maximum Installs']\n",
    "    df['Price per Install'].replace([np.inf, -np.inf], 0, inplace=True)  # Handle division by zero\n",
    "    X['Price per Install'] = df['Price per Install']\n",
    "    print(\"Added 'Price per Install' feature.\")\n",
    "elif choice == 4:\n",
    "    print(\"Proceeding without changes.\")\n",
    "else:\n",
    "    print(\"Invalid choice. Proceeding without changes.\")\n"
   ]
  },
  {
   "cell_type": "markdown",
   "metadata": {},
   "source": [
    "### Step 7: Re-train Model and Evaluate"
   ]
  },
  {
   "cell_type": "code",
   "execution_count": null,
   "metadata": {},
   "outputs": [],
   "source": [
    "# Re-split data based on updated features\n",
    "X_train, X_test, y_train, y_test = train_test_split(X, y, test_size=0.2, random_state=42)\n",
    "\n",
    "# Re-train the model\n",
    "clf = DecisionTreeClassifier(max_depth=5, random_state=42)\n",
    "clf.fit(X_train, y_train)\n",
    "\n",
    "# Re-predict and evaluate\n",
    "y_pred = clf.predict(X_test)\n",
    "print(\"Updated Classification Report:\\n\", classification_report(y_test, y_pred))\n",
    "print(\"Updated Accuracy Score:\", accuracy_score(y_test, y_pred))\n",
    "\n",
    "# Visualize the updated decision tree\n",
    "plt.figure(figsize=(20, 10))\n",
    "plot_tree(clf, feature_names=X.columns, class_names=['Not Editors Choice', 'Editors Choice'], filled=True)\n",
    "plt.title('Updated Decision Tree for Editors Choice Classification', fontsize=16)\n",
    "plt.show()\n"
   ]
  }
 ],
 "metadata": {
  "kernelspec": {
   "display_name": "dvenv",
   "language": "python",
   "name": "python3"
  },
  "language_info": {
   "name": "python",
   "version": "3.12.4"
  }
 },
 "nbformat": 4,
 "nbformat_minor": 2
}
