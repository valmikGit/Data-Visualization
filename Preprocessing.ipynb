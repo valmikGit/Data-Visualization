{
 "cells": [
  {
   "cell_type": "code",
   "execution_count": 138,
   "id": "df062320-bd57-4faf-bed4-02aa8bc75d8f",
   "metadata": {},
   "outputs": [],
   "source": [
    "import pandas as pd\n",
    "import numpy as np"
   ]
  },
  {
   "cell_type": "code",
   "execution_count": 139,
   "id": "11b31f67-b16c-4f8c-a18b-46dabce33470",
   "metadata": {},
   "outputs": [],
   "source": [
    "df = pd.read_csv(\"Google-Playstore.csv\")"
   ]
  },
  {
   "cell_type": "code",
   "execution_count": 140,
   "id": "54705f28-6966-4dd9-b965-0282b78beeac",
   "metadata": {},
   "outputs": [
    {
     "name": "stdout",
     "output_type": "stream",
     "text": [
      "(1287191, 24)\n"
     ]
    }
   ],
   "source": [
    "# Drop rows with null values\n",
    "for column in df.columns:\n",
    "\t\tdf.drop(labels=df.index[df[column].isna()],inplace=True)\n",
    "\n",
    "print(df.shape)"
   ]
  },
  {
   "cell_type": "code",
   "execution_count": 141,
   "id": "ff3800f9-aeae-4e5a-b198-f7fba5972626",
   "metadata": {},
   "outputs": [
    {
     "name": "stdout",
     "output_type": "stream",
     "text": [
      "(1249667, 24)\n"
     ]
    }
   ],
   "source": [
    "# Drop rows with size or minimum android version = \"Varies with device\"\n",
    "df.drop(labels=df.index[df[\"Size\"] == \"Varies with device\"],inplace=True)\n",
    "df.drop(labels=df.index[df[\"Minimum Android\"] == \"Varies with device\"],inplace=True)\n",
    "\n",
    "print(df.shape)"
   ]
  },
  {
   "cell_type": "code",
   "execution_count": 142,
   "id": "3b1f0720-5a22-4f67-b4eb-1ad1451753ed",
   "metadata": {},
   "outputs": [],
   "source": [
    "# Convert all sizes to the same units\n",
    "def normalize_size(size):\n",
    "    nsize = float(size[:-1].replace(\",\", \"\"))\n",
    "    if size[-1] == \"G\":\n",
    "        return nsize*1024\n",
    "    elif size[-1] == \"k\":\n",
    "        return nsize/1024\n",
    "    else:\n",
    "        return nsize\n",
    "\n",
    "df['Size'] = df['Size'].apply(normalize_size)"
   ]
  },
  {
   "cell_type": "code",
   "execution_count": 145,
   "id": "89b86333-39d2-40dc-bae6-22b706edd16c",
   "metadata": {},
   "outputs": [],
   "source": [
    "# Remove android version specifications with no. of apps < 1000 (outliers)\n",
    "unique_versions = set(df[\"Minimum Android\"])\n",
    "version_cnts = {}\n",
    "for s in unique_versions:\n",
    "    version_cnts[s] = sum(df[\"Minimum Android\"].str.count(s))\n",
    "\n",
    "df[\"vcount\"] = df[\"Minimum Android\"].apply(lambda x: version_cnts[x])\n",
    "\n",
    "df.drop(labels=df.index[df[\"vcount\"] < 1000],inplace=True)\n",
    "\n",
    "print(df.shape)"
   ]
  },
  {
   "cell_type": "code",
   "execution_count": 148,
   "id": "11297b7f-eec2-4e25-9759-65d2353c6bae",
   "metadata": {},
   "outputs": [
    {
     "name": "stdout",
     "output_type": "stream",
     "text": [
      "(1248021, 20)\n"
     ]
    }
   ],
   "source": [
    "# Delete unnecessary columns\n",
    "drop_columns = [\"Developer Website\", \"Developer Email\", \"Scraped Time\", \"Privacy Policy\", \"vcount\"]\n",
    "df.drop(drop_columns, inplace=True, axis=1)\n",
    "\n",
    "print(df.shape)"
   ]
  },
  {
   "cell_type": "code",
   "execution_count": 162,
   "id": "b4c0c3d4-a336-4476-8e34-b1c018d30d22",
   "metadata": {},
   "outputs": [],
   "source": [
    "df.to_csv(\"Google-Playstore-Preprocessed.csv\")"
   ]
  }
 ],
 "metadata": {
  "kernelspec": {
   "display_name": "Python 3 (ipykernel)",
   "language": "python",
   "name": "python3"
  },
  "language_info": {
   "codemirror_mode": {
    "name": "ipython",
    "version": 3
   },
   "file_extension": ".py",
   "mimetype": "text/x-python",
   "name": "python",
   "nbconvert_exporter": "python",
   "pygments_lexer": "ipython3",
   "version": "3.12.4"
  }
 },
 "nbformat": 4,
 "nbformat_minor": 5
}
