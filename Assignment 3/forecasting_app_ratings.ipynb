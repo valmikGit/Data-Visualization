{
 "cells": [
  {
   "cell_type": "markdown",
   "metadata": {},
   "source": [
    "## 4. Forecasting App Ratings"
   ]
  },
  {
   "cell_type": "markdown",
   "metadata": {},
   "source": [
    "### Step 1: Import Libraries and Load Data"
   ]
  },
  {
   "cell_type": "code",
   "execution_count": null,
   "metadata": {},
   "outputs": [],
   "source": [
    "import pandas as pd\n",
    "import numpy as np\n",
    "import matplotlib.pyplot as plt\n",
    "from sklearn.model_selection import train_test_split\n",
    "from sklearn.ensemble import RandomForestRegressor\n",
    "from sklearn.metrics import mean_squared_error, r2_score\n",
    "from statsmodels.tsa.api import ExponentialSmoothing\n",
    "import warnings\n",
    "warnings.filterwarnings(\"ignore\")\n",
    "\n",
    "# Load dataset (replace 'dataset.csv' with your file path)\n",
    "df = pd.read_csv('dataset.csv')\n",
    "\n",
    "# Convert 'Released' or 'Last Updated' to datetime\n",
    "df['Last Updated'] = pd.to_datetime(df['Last Updated'], errors='coerce')\n",
    "\n",
    "# Drop rows with invalid dates\n",
    "df = df.dropna(subset=['Last Updated'])\n",
    "\n",
    "# Display dataset overview\n",
    "print(\"Dataset Overview:\")\n",
    "print(df.info())\n"
   ]
  },
  {
   "cell_type": "markdown",
   "metadata": {},
   "source": [
    "### Step 2: Visualize Time-Series Trends"
   ]
  },
  {
   "cell_type": "code",
   "execution_count": null,
   "metadata": {},
   "outputs": [],
   "source": [
    "# Group data by month and calculate mean rating\n",
    "df['Month'] = df['Last Updated'].dt.to_period('M')\n",
    "monthly_ratings = df.groupby('Month')['Rating'].mean()\n",
    "\n",
    "# Plot time-series trends\n",
    "plt.figure(figsize=(12, 6))\n",
    "plt.plot(monthly_ratings.index.to_timestamp(), monthly_ratings, marker='o', label='Average Monthly Rating')\n",
    "plt.title('Trends in App Ratings Over Time', fontsize=16)\n",
    "plt.xlabel('Date', fontsize=14)\n",
    "plt.ylabel('Average Rating', fontsize=14)\n",
    "plt.grid()\n",
    "plt.legend()\n",
    "plt.show()\n"
   ]
  },
  {
   "cell_type": "markdown",
   "metadata": {},
   "source": [
    "### Step 3: Forecasting Model"
   ]
  },
  {
   "cell_type": "code",
   "execution_count": null,
   "metadata": {},
   "outputs": [],
   "source": [
    "# Prepare Data for Forecasting\n",
    "\n",
    "# Reset index for time-series forecasting\n",
    "time_series = monthly_ratings.reset_index()\n",
    "time_series.columns = ['Month', 'Rating']\n",
    "time_series['Month'] = time_series['Month'].dt.to_timestamp()\n",
    "\n",
    "# Split data into training and testing sets\n",
    "train_size = int(len(time_series) * 0.8)\n",
    "train_data = time_series[:train_size]\n",
    "test_data = time_series[train_size:]\n"
   ]
  },
  {
   "cell_type": "markdown",
   "metadata": {},
   "source": [
    "### Exponential Smoothing Model"
   ]
  },
  {
   "cell_type": "code",
   "execution_count": null,
   "metadata": {},
   "outputs": [],
   "source": [
    "# Fit an Exponential Smoothing model\n",
    "model = ExponentialSmoothing(\n",
    "    train_data['Rating'], \n",
    "    seasonal='add', \n",
    "    seasonal_periods=12\n",
    ").fit()\n",
    "\n",
    "# Forecast\n",
    "forecast = model.forecast(steps=len(test_data))\n",
    "\n",
    "# Plot predictions\n",
    "plt.figure(figsize=(12, 6))\n",
    "plt.plot(train_data['Month'], train_data['Rating'], label='Training Data')\n",
    "plt.plot(test_data['Month'], test_data['Rating'], label='Test Data')\n",
    "plt.plot(test_data['Month'], forecast, label='Forecast', linestyle='--')\n",
    "plt.title('Forecasting App Ratings', fontsize=16)\n",
    "plt.xlabel('Date', fontsize=14)\n",
    "plt.ylabel('Average Rating', fontsize=14)\n",
    "plt.grid()\n",
    "plt.legend()\n",
    "plt.show()\n",
    "\n",
    "# Evaluate Model\n",
    "mse = mean_squared_error(test_data['Rating'], forecast)\n",
    "r2 = r2_score(test_data['Rating'], forecast)\n",
    "print(f\"Mean Squared Error: {mse:.4f}\")\n",
    "print(f\"R-squared: {r2:.4f}\")\n"
   ]
  },
  {
   "cell_type": "markdown",
   "metadata": {},
   "source": [
    "### Step 4: Feedback Loop"
   ]
  },
  {
   "cell_type": "code",
   "execution_count": null,
   "metadata": {},
   "outputs": [],
   "source": [
    "# User Interaction for Refinement\n",
    "\n",
    "print(\"\\nFeedback Options:\")\n",
    "print(\"1. Aggregate ratings by quarter instead of month.\")\n",
    "print(\"2. Apply transformation to handle missing or zero ratings.\")\n",
    "print(\"3. Retrain model with additional features (e.g., Category).\")\n",
    "print(\"4. Proceed without changes.\")\n",
    "\n",
    "# User input\n",
    "choice = int(input(\"Enter your choice (1, 2, 3, or 4): \"))\n",
    "\n",
    "if choice == 1:\n",
    "    # Aggregate by quarter\n",
    "    df['Quarter'] = df['Last Updated'].dt.to_period('Q')\n",
    "    quarterly_ratings = df.groupby('Quarter')['Rating'].mean()\n",
    "    print(\"Aggregated by quarter. Re-plotting and re-training model...\")\n",
    "    # Update and re-visualize\n",
    "    time_series = quarterly_ratings.reset_index()\n",
    "    time_series.columns = ['Quarter', 'Rating']\n",
    "    time_series['Quarter'] = time_series['Quarter'].dt.to_timestamp()\n",
    "elif choice == 2:\n",
    "    # Handle missing or zero ratings\n",
    "    df['Rating'] = df['Rating'].replace(0, np.nan)\n",
    "    df['Rating'].fillna(df['Rating'].mean(), inplace=True)\n",
    "    print(\"Missing and zero ratings handled. Re-plotting and re-training model...\")\n",
    "elif choice == 3:\n",
    "    # Add category feature to train/test split\n",
    "    category_dummies = pd.get_dummies(df['Category'])\n",
    "    df = pd.concat([df, category_dummies], axis=1)\n",
    "    print(\"Additional features (Category) added. Re-training model...\")\n",
    "elif choice == 4:\n",
    "    print(\"Proceeding without changes.\")\n",
    "else:\n",
    "    print(\"Invalid choice. Proceeding without changes.\")"
   ]
  },
  {
   "cell_type": "markdown",
   "metadata": {},
   "source": [
    "### Step 5: Re-Train and Evaluate"
   ]
  },
  {
   "cell_type": "code",
   "execution_count": null,
   "metadata": {},
   "outputs": [],
   "source": [
    "# Repeat the forecasting process based on updated data\n",
    "# (Steps above can be re-used for retraining and re-evaluation)\n",
    "\n",
    "# Example of re-training after aggregation\n",
    "if choice == 1:\n",
    "    train_size = int(len(time_series) * 0.8)\n",
    "    train_data = time_series[:train_size]\n",
    "    test_data = time_series[train_size:]\n",
    "\n",
    "    model = ExponentialSmoothing(\n",
    "        train_data['Rating'], \n",
    "        seasonal='add', \n",
    "        seasonal_periods=4  # Quarterly data\n",
    "    ).fit()\n",
    "\n",
    "    forecast = model.forecast(steps=len(test_data))\n",
    "\n",
    "    # Re-plot results\n",
    "    plt.figure(figsize=(12, 6))\n",
    "    plt.plot(train_data['Quarter'], train_data['Rating'], label='Training Data')\n",
    "    plt.plot(test_data['Quarter'], test_data['Rating'], label='Test Data')\n",
    "    plt.plot(test_data['Quarter'], forecast, label='Forecast', linestyle='--')\n",
    "    plt.title('Updated Forecasting App Ratings', fontsize=16)\n",
    "    plt.xlabel('Date', fontsize=14)\n",
    "    plt.ylabel('Average Rating', fontsize=14)\n",
    "    plt.grid()\n",
    "    plt.legend()\n",
    "    plt.show()\n",
    "\n",
    "    # Evaluate updated model\n",
    "    mse = mean_squared_error(test_data['Rating'], forecast)\n",
    "    r2 = r2_score(test_data['Rating'], forecast)\n",
    "    print(f\"Updated Mean Squared Error: {mse:.4f}\")\n",
    "    print(f\"Updated R-squared: {r2:.4f}\")\n"
   ]
  }
 ],
 "metadata": {
  "kernelspec": {
   "display_name": "dvenv",
   "language": "python",
   "name": "python3"
  },
  "language_info": {
   "name": "python",
   "version": "3.12.4"
  }
 },
 "nbformat": 4,
 "nbformat_minor": 2
}
