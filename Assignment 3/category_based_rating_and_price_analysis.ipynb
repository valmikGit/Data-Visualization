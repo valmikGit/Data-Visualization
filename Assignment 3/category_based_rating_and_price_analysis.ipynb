{
 "cells": [
  {
   "cell_type": "markdown",
   "metadata": {},
   "source": [
    "## 3. Category-Based Rating and Price Analysis"
   ]
  },
  {
   "cell_type": "markdown",
   "metadata": {},
   "source": [
    "### Step 1: Import Libraries and Load Data"
   ]
  },
  {
   "cell_type": "code",
   "execution_count": 2,
   "metadata": {},
   "outputs": [
    {
     "name": "stdout",
     "output_type": "stream",
     "text": [
      "Dataset Overview:\n",
      "<class 'pandas.core.frame.DataFrame'>\n",
      "RangeIndex: 1248021 entries, 0 to 1248020\n",
      "Data columns (total 19 columns):\n",
      " #   Column            Non-Null Count    Dtype  \n",
      "---  ------            --------------    -----  \n",
      " 0   Unnamed: 0        1248021 non-null  int64  \n",
      " 1   App Name          1248021 non-null  object \n",
      " 2   App Id            1248021 non-null  object \n",
      " 3   Category          1248021 non-null  object \n",
      " 4   Rating            1248021 non-null  float64\n",
      " 5   Rating Count      1248021 non-null  float64\n",
      " 6   Minimum Installs  1248021 non-null  float64\n",
      " 7   Maximum Installs  1248021 non-null  int64  \n",
      " 8   Free              1248021 non-null  bool   \n",
      " 9   Price             1248021 non-null  float64\n",
      " 10  Currency          1248021 non-null  object \n",
      " 11  Size              1248021 non-null  float64\n",
      " 12  Minimum Android   1248021 non-null  object \n",
      " 13  Released          1248021 non-null  object \n",
      " 14  Last Updated      1248021 non-null  object \n",
      " 15  Content Rating    1248021 non-null  object \n",
      " 16  Ad Supported      1248021 non-null  bool   \n",
      " 17  In App Purchases  1248021 non-null  bool   \n",
      " 18  Editors Choice    1248021 non-null  bool   \n",
      "dtypes: bool(4), float64(5), int64(2), object(8)\n",
      "memory usage: 147.6+ MB\n",
      "None\n",
      "\n",
      "Sample Data:\n",
      "   Unnamed: 0                          App Name  \\\n",
      "0           0                           Gakondo   \n",
      "1           1               Ampere Battery Info   \n",
      "2           4                           GROW.me   \n",
      "3           5                            IMOCCI   \n",
      "4           9  Neon 3d Iron Tech Keyboard Theme   \n",
      "\n",
      "                                  App Id         Category  Rating  \\\n",
      "0                    com.ishakwe.gakondo        Adventure     0.0   \n",
      "1             com.webserveis.batteryinfo            Tools     4.4   \n",
      "2                   com.horodyski.grower            Tools     0.0   \n",
      "3                             com.imocci           Social     0.0   \n",
      "4  com.ikeyboard.theme.neon_3d.iron.tech  Personalization     4.7   \n",
      "\n",
      "   Rating Count  Minimum Installs  Maximum Installs  Free  Price Currency  \\\n",
      "0           0.0              10.0                15  True    0.0      USD   \n",
      "1          64.0            5000.0              7662  True    0.0      USD   \n",
      "2           0.0             100.0               478  True    0.0      USD   \n",
      "3           0.0              50.0                89  True    0.0      USD   \n",
      "4         820.0           50000.0             62433  True    0.0      USD   \n",
      "\n",
      "   Size Minimum Android      Released  Last Updated Content Rating  \\\n",
      "0  10.0      7.1 and up  Feb 26, 2020  Feb 26, 2020       Everyone   \n",
      "1   2.9      5.0 and up  May 21, 2020  May 06, 2021       Everyone   \n",
      "2   6.2      4.1 and up  Feb 21, 2020  Nov 12, 2018       Everyone   \n",
      "3  46.0      6.0 and up  Dec 24, 2018  Dec 20, 2019           Teen   \n",
      "4   3.5      4.1 and up  Sep 22, 2019  Oct 07, 2020       Everyone   \n",
      "\n",
      "   Ad Supported  In App Purchases  Editors Choice  \n",
      "0         False             False           False  \n",
      "1          True             False           False  \n",
      "2         False             False           False  \n",
      "3         False              True           False  \n",
      "4          True             False           False  \n"
     ]
    }
   ],
   "source": [
    "import pandas as pd\n",
    "import plotly.express as px\n",
    "import numpy as np\n",
    "\n",
    "# Load dataset (replace 'dataset.csv' with your file path)\n",
    "df = pd.read_csv('Google-Playstore-Preprocessed.csv')\n",
    "\n",
    "# Display dataset overview\n",
    "print(\"Dataset Overview:\")\n",
    "print(df.info())\n",
    "print(\"\\nSample Data:\")\n",
    "print(df.head())\n"
   ]
  },
  {
   "cell_type": "markdown",
   "metadata": {},
   "source": [
    "### Step 2: Create Treemap Visualization"
   ]
  },
  {
   "cell_type": "code",
   "execution_count": 3,
   "metadata": {},
   "outputs": [
    {
     "data": {
      "application/vnd.plotly.v1+json": {
       "config": {
        "plotlyServerURL": "https://plot.ly"
       },
       "data": [
        {
         "branchvalues": "total",
         "customdata": [
          [
           3.580510809379796
          ],
          [
           3.9456057718100923
          ],
          [
           3.1332200647075514
          ],
          [
           1.3409284055897084
          ],
          [
           2.6447949633591143
          ],
          [
           1.6077015643802648
          ],
          [
           3.6726552509515193
          ],
          [
           2.138376258355915
          ],
          [
           1.3205153132359977
          ],
          [
           3.7436392376204517
          ],
          [
           3.2547805113362274
          ],
          [
           2.819495805403442
          ],
          [
           3.7539348079161816
          ],
          [
           2.218200134318334
          ],
          [
           0.7455030534196271
          ],
          [
           1.7388823457085985
          ],
          [
           2.090624927190585
          ],
          [
           2.6177274464831806
          ],
          [
           0
          ],
          [
           2.155477558319138
          ],
          [
           2.7376656061022357
          ],
          [
           1.9422957849528546
          ],
          [
           2.202599611273081
          ],
          [
           2.5763669227293264
          ],
          [
           2.3525715540033647
          ],
          [
           1.9164928811963773
          ],
          [
           0.8469017289141672
          ],
          [
           2.957831713719891
          ],
          [
           2.8392170925413613
          ],
          [
           2.887072958888245
          ],
          [
           2.426425756947325
          ],
          [
           2.2745926630736752
          ],
          [
           3.5732221446565697
          ],
          [
           1.728422844305965
          ],
          [
           3.2140845287961732
          ],
          [
           3.214036605354216
          ],
          [
           4.048357932479997
          ],
          [
           2.37535055875863
          ],
          [
           2.8695716778602254
          ],
          [
           0.8859838231372769
          ],
          [
           2.6440610820515706
          ],
          [
           3.5050532296390786
          ],
          [
           2.448406256621199
          ],
          [
           1.449142539266622
          ],
          [
           2.179133602185508
          ],
          [
           3.20417782722291
          ],
          [
           3.7758741444766226
          ],
          [
           3.2167316536692665
          ]
         ],
         "domain": {
          "x": [
           0,
           1
          ],
          "y": [
           0,
           1
          ]
         },
         "hovertemplate": "labels=%{label}<br>Price=%{value}<br>parent=%{parent}<br>id=%{id}<br>Rating=%{color}<extra></extra>",
         "ids": [
          "Action",
          "Adventure",
          "Arcade",
          "Art & Design",
          "Auto & Vehicles",
          "Beauty",
          "Board",
          "Books & Reference",
          "Business",
          "Card",
          "Casino",
          "Casual",
          "Comics",
          "Communication",
          "Dating",
          "Education",
          "Educational",
          "Entertainment",
          "Events",
          "Finance",
          "Food & Drink",
          "Health & Fitness",
          "House & Home",
          "Libraries & Demo",
          "Lifestyle",
          "Maps & Navigation",
          "Medical",
          "Music",
          "Music & Audio",
          "News & Magazines",
          "Parenting",
          "Personalization",
          "Photography",
          "Productivity",
          "Puzzle",
          "Racing",
          "Role Playing",
          "Shopping",
          "Simulation",
          "Social",
          "Sports",
          "Strategy",
          "Tools",
          "Travel & Local",
          "Trivia",
          "Video Players & Editors",
          "Weather",
          "Word"
         ],
         "labels": [
          "Action",
          "Adventure",
          "Arcade",
          "Art & Design",
          "Auto & Vehicles",
          "Beauty",
          "Board",
          "Books & Reference",
          "Business",
          "Card",
          "Casino",
          "Casual",
          "Comics",
          "Communication",
          "Dating",
          "Education",
          "Educational",
          "Entertainment",
          "Events",
          "Finance",
          "Food & Drink",
          "Health & Fitness",
          "House & Home",
          "Libraries & Demo",
          "Lifestyle",
          "Maps & Navigation",
          "Medical",
          "Music",
          "Music & Audio",
          "News & Magazines",
          "Parenting",
          "Personalization",
          "Photography",
          "Productivity",
          "Puzzle",
          "Racing",
          "Role Playing",
          "Shopping",
          "Simulation",
          "Social",
          "Sports",
          "Strategy",
          "Tools",
          "Travel & Local",
          "Trivia",
          "Video Players & Editors",
          "Weather",
          "Word"
         ],
         "marker": {
          "coloraxis": "coloraxis",
          "colors": [
           3.580510809379796,
           3.9456057718100923,
           3.1332200647075514,
           1.3409284055897084,
           2.6447949633591143,
           1.6077015643802648,
           3.6726552509515193,
           2.138376258355915,
           1.3205153132359977,
           3.7436392376204517,
           3.2547805113362274,
           2.819495805403442,
           3.7539348079161816,
           2.218200134318334,
           0.7455030534196271,
           1.7388823457085985,
           2.090624927190585,
           2.6177274464831806,
           0,
           2.155477558319138,
           2.7376656061022357,
           1.9422957849528546,
           2.202599611273081,
           2.5763669227293264,
           2.3525715540033647,
           1.9164928811963773,
           0.8469017289141672,
           2.957831713719891,
           2.8392170925413613,
           2.887072958888245,
           2.426425756947325,
           2.2745926630736752,
           3.5732221446565697,
           1.728422844305965,
           3.2140845287961732,
           3.214036605354216,
           4.048357932479997,
           2.37535055875863,
           2.8695716778602254,
           0.8859838231372769,
           2.6440610820515706,
           3.5050532296390786,
           2.448406256621199,
           1.449142539266622,
           2.179133602185508,
           3.20417782722291,
           3.7758741444766226,
           3.2167316536692665
          ]
         },
         "name": "",
         "parents": [
          "",
          "",
          "",
          "",
          "",
          "",
          "",
          "",
          "",
          "",
          "",
          "",
          "",
          "",
          "",
          "",
          "",
          "",
          "",
          "",
          "",
          "",
          "",
          "",
          "",
          "",
          "",
          "",
          "",
          "",
          "",
          "",
          "",
          "",
          "",
          "",
          "",
          "",
          "",
          "",
          "",
          "",
          "",
          "",
          "",
          "",
          "",
          ""
         ],
         "textinfo": "label+value+percent entry",
         "type": "treemap",
         "values": [
          1114.31,
          2897.7902830000003,
          1008.088214,
          684.83,
          1181.74,
          24.93,
          1321.5700000000002,
          11749.71232,
          4453.99,
          657.9399999999999,
          103.65,
          1006.702657,
          85.9,
          1250.76,
          492.89000000000004,
          23678.125556,
          2697.109976,
          2511.36,
          17.97,
          1877.622793,
          330.095928,
          3720.024678,
          164.64000000000001,
          66.39,
          5463.156415,
          2765.176221,
          18548.921288,
          217.13,
          4017.4925980000003,
          138.16,
          192.88,
          2879.6800000000003,
          1317.88,
          6525.755776,
          1952.69976,
          219.64000000000001,
          2216.260754,
          140.49,
          1739.263304,
          1237.5700000000002,
          5469.676401,
          1041.640728,
          8261.834104,
          3581.3129750000003,
          153.74,
          672.170425,
          606.787481,
          200.04
         ]
        }
       ],
       "layout": {
        "coloraxis": {
         "colorbar": {
          "title": {
           "text": "Rating"
          }
         },
         "colorscale": [
          [
           0,
           "#440154"
          ],
          [
           0.1111111111111111,
           "#482878"
          ],
          [
           0.2222222222222222,
           "#3e4989"
          ],
          [
           0.3333333333333333,
           "#31688e"
          ],
          [
           0.4444444444444444,
           "#26828e"
          ],
          [
           0.5555555555555556,
           "#1f9e89"
          ],
          [
           0.6666666666666666,
           "#35b779"
          ],
          [
           0.7777777777777778,
           "#6ece58"
          ],
          [
           0.8888888888888888,
           "#b5de2b"
          ],
          [
           1,
           "#fde725"
          ]
         ]
        },
        "legend": {
         "tracegroupgap": 0
        },
        "template": {
         "data": {
          "bar": [
           {
            "error_x": {
             "color": "#2a3f5f"
            },
            "error_y": {
             "color": "#2a3f5f"
            },
            "marker": {
             "line": {
              "color": "#E5ECF6",
              "width": 0.5
             },
             "pattern": {
              "fillmode": "overlay",
              "size": 10,
              "solidity": 0.2
             }
            },
            "type": "bar"
           }
          ],
          "barpolar": [
           {
            "marker": {
             "line": {
              "color": "#E5ECF6",
              "width": 0.5
             },
             "pattern": {
              "fillmode": "overlay",
              "size": 10,
              "solidity": 0.2
             }
            },
            "type": "barpolar"
           }
          ],
          "carpet": [
           {
            "aaxis": {
             "endlinecolor": "#2a3f5f",
             "gridcolor": "white",
             "linecolor": "white",
             "minorgridcolor": "white",
             "startlinecolor": "#2a3f5f"
            },
            "baxis": {
             "endlinecolor": "#2a3f5f",
             "gridcolor": "white",
             "linecolor": "white",
             "minorgridcolor": "white",
             "startlinecolor": "#2a3f5f"
            },
            "type": "carpet"
           }
          ],
          "choropleth": [
           {
            "colorbar": {
             "outlinewidth": 0,
             "ticks": ""
            },
            "type": "choropleth"
           }
          ],
          "contour": [
           {
            "colorbar": {
             "outlinewidth": 0,
             "ticks": ""
            },
            "colorscale": [
             [
              0,
              "#0d0887"
             ],
             [
              0.1111111111111111,
              "#46039f"
             ],
             [
              0.2222222222222222,
              "#7201a8"
             ],
             [
              0.3333333333333333,
              "#9c179e"
             ],
             [
              0.4444444444444444,
              "#bd3786"
             ],
             [
              0.5555555555555556,
              "#d8576b"
             ],
             [
              0.6666666666666666,
              "#ed7953"
             ],
             [
              0.7777777777777778,
              "#fb9f3a"
             ],
             [
              0.8888888888888888,
              "#fdca26"
             ],
             [
              1,
              "#f0f921"
             ]
            ],
            "type": "contour"
           }
          ],
          "contourcarpet": [
           {
            "colorbar": {
             "outlinewidth": 0,
             "ticks": ""
            },
            "type": "contourcarpet"
           }
          ],
          "heatmap": [
           {
            "colorbar": {
             "outlinewidth": 0,
             "ticks": ""
            },
            "colorscale": [
             [
              0,
              "#0d0887"
             ],
             [
              0.1111111111111111,
              "#46039f"
             ],
             [
              0.2222222222222222,
              "#7201a8"
             ],
             [
              0.3333333333333333,
              "#9c179e"
             ],
             [
              0.4444444444444444,
              "#bd3786"
             ],
             [
              0.5555555555555556,
              "#d8576b"
             ],
             [
              0.6666666666666666,
              "#ed7953"
             ],
             [
              0.7777777777777778,
              "#fb9f3a"
             ],
             [
              0.8888888888888888,
              "#fdca26"
             ],
             [
              1,
              "#f0f921"
             ]
            ],
            "type": "heatmap"
           }
          ],
          "heatmapgl": [
           {
            "colorbar": {
             "outlinewidth": 0,
             "ticks": ""
            },
            "colorscale": [
             [
              0,
              "#0d0887"
             ],
             [
              0.1111111111111111,
              "#46039f"
             ],
             [
              0.2222222222222222,
              "#7201a8"
             ],
             [
              0.3333333333333333,
              "#9c179e"
             ],
             [
              0.4444444444444444,
              "#bd3786"
             ],
             [
              0.5555555555555556,
              "#d8576b"
             ],
             [
              0.6666666666666666,
              "#ed7953"
             ],
             [
              0.7777777777777778,
              "#fb9f3a"
             ],
             [
              0.8888888888888888,
              "#fdca26"
             ],
             [
              1,
              "#f0f921"
             ]
            ],
            "type": "heatmapgl"
           }
          ],
          "histogram": [
           {
            "marker": {
             "pattern": {
              "fillmode": "overlay",
              "size": 10,
              "solidity": 0.2
             }
            },
            "type": "histogram"
           }
          ],
          "histogram2d": [
           {
            "colorbar": {
             "outlinewidth": 0,
             "ticks": ""
            },
            "colorscale": [
             [
              0,
              "#0d0887"
             ],
             [
              0.1111111111111111,
              "#46039f"
             ],
             [
              0.2222222222222222,
              "#7201a8"
             ],
             [
              0.3333333333333333,
              "#9c179e"
             ],
             [
              0.4444444444444444,
              "#bd3786"
             ],
             [
              0.5555555555555556,
              "#d8576b"
             ],
             [
              0.6666666666666666,
              "#ed7953"
             ],
             [
              0.7777777777777778,
              "#fb9f3a"
             ],
             [
              0.8888888888888888,
              "#fdca26"
             ],
             [
              1,
              "#f0f921"
             ]
            ],
            "type": "histogram2d"
           }
          ],
          "histogram2dcontour": [
           {
            "colorbar": {
             "outlinewidth": 0,
             "ticks": ""
            },
            "colorscale": [
             [
              0,
              "#0d0887"
             ],
             [
              0.1111111111111111,
              "#46039f"
             ],
             [
              0.2222222222222222,
              "#7201a8"
             ],
             [
              0.3333333333333333,
              "#9c179e"
             ],
             [
              0.4444444444444444,
              "#bd3786"
             ],
             [
              0.5555555555555556,
              "#d8576b"
             ],
             [
              0.6666666666666666,
              "#ed7953"
             ],
             [
              0.7777777777777778,
              "#fb9f3a"
             ],
             [
              0.8888888888888888,
              "#fdca26"
             ],
             [
              1,
              "#f0f921"
             ]
            ],
            "type": "histogram2dcontour"
           }
          ],
          "mesh3d": [
           {
            "colorbar": {
             "outlinewidth": 0,
             "ticks": ""
            },
            "type": "mesh3d"
           }
          ],
          "parcoords": [
           {
            "line": {
             "colorbar": {
              "outlinewidth": 0,
              "ticks": ""
             }
            },
            "type": "parcoords"
           }
          ],
          "pie": [
           {
            "automargin": true,
            "type": "pie"
           }
          ],
          "scatter": [
           {
            "fillpattern": {
             "fillmode": "overlay",
             "size": 10,
             "solidity": 0.2
            },
            "type": "scatter"
           }
          ],
          "scatter3d": [
           {
            "line": {
             "colorbar": {
              "outlinewidth": 0,
              "ticks": ""
             }
            },
            "marker": {
             "colorbar": {
              "outlinewidth": 0,
              "ticks": ""
             }
            },
            "type": "scatter3d"
           }
          ],
          "scattercarpet": [
           {
            "marker": {
             "colorbar": {
              "outlinewidth": 0,
              "ticks": ""
             }
            },
            "type": "scattercarpet"
           }
          ],
          "scattergeo": [
           {
            "marker": {
             "colorbar": {
              "outlinewidth": 0,
              "ticks": ""
             }
            },
            "type": "scattergeo"
           }
          ],
          "scattergl": [
           {
            "marker": {
             "colorbar": {
              "outlinewidth": 0,
              "ticks": ""
             }
            },
            "type": "scattergl"
           }
          ],
          "scattermapbox": [
           {
            "marker": {
             "colorbar": {
              "outlinewidth": 0,
              "ticks": ""
             }
            },
            "type": "scattermapbox"
           }
          ],
          "scatterpolar": [
           {
            "marker": {
             "colorbar": {
              "outlinewidth": 0,
              "ticks": ""
             }
            },
            "type": "scatterpolar"
           }
          ],
          "scatterpolargl": [
           {
            "marker": {
             "colorbar": {
              "outlinewidth": 0,
              "ticks": ""
             }
            },
            "type": "scatterpolargl"
           }
          ],
          "scatterternary": [
           {
            "marker": {
             "colorbar": {
              "outlinewidth": 0,
              "ticks": ""
             }
            },
            "type": "scatterternary"
           }
          ],
          "surface": [
           {
            "colorbar": {
             "outlinewidth": 0,
             "ticks": ""
            },
            "colorscale": [
             [
              0,
              "#0d0887"
             ],
             [
              0.1111111111111111,
              "#46039f"
             ],
             [
              0.2222222222222222,
              "#7201a8"
             ],
             [
              0.3333333333333333,
              "#9c179e"
             ],
             [
              0.4444444444444444,
              "#bd3786"
             ],
             [
              0.5555555555555556,
              "#d8576b"
             ],
             [
              0.6666666666666666,
              "#ed7953"
             ],
             [
              0.7777777777777778,
              "#fb9f3a"
             ],
             [
              0.8888888888888888,
              "#fdca26"
             ],
             [
              1,
              "#f0f921"
             ]
            ],
            "type": "surface"
           }
          ],
          "table": [
           {
            "cells": {
             "fill": {
              "color": "#EBF0F8"
             },
             "line": {
              "color": "white"
             }
            },
            "header": {
             "fill": {
              "color": "#C8D4E3"
             },
             "line": {
              "color": "white"
             }
            },
            "type": "table"
           }
          ]
         },
         "layout": {
          "annotationdefaults": {
           "arrowcolor": "#2a3f5f",
           "arrowhead": 0,
           "arrowwidth": 1
          },
          "autotypenumbers": "strict",
          "coloraxis": {
           "colorbar": {
            "outlinewidth": 0,
            "ticks": ""
           }
          },
          "colorscale": {
           "diverging": [
            [
             0,
             "#8e0152"
            ],
            [
             0.1,
             "#c51b7d"
            ],
            [
             0.2,
             "#de77ae"
            ],
            [
             0.3,
             "#f1b6da"
            ],
            [
             0.4,
             "#fde0ef"
            ],
            [
             0.5,
             "#f7f7f7"
            ],
            [
             0.6,
             "#e6f5d0"
            ],
            [
             0.7,
             "#b8e186"
            ],
            [
             0.8,
             "#7fbc41"
            ],
            [
             0.9,
             "#4d9221"
            ],
            [
             1,
             "#276419"
            ]
           ],
           "sequential": [
            [
             0,
             "#0d0887"
            ],
            [
             0.1111111111111111,
             "#46039f"
            ],
            [
             0.2222222222222222,
             "#7201a8"
            ],
            [
             0.3333333333333333,
             "#9c179e"
            ],
            [
             0.4444444444444444,
             "#bd3786"
            ],
            [
             0.5555555555555556,
             "#d8576b"
            ],
            [
             0.6666666666666666,
             "#ed7953"
            ],
            [
             0.7777777777777778,
             "#fb9f3a"
            ],
            [
             0.8888888888888888,
             "#fdca26"
            ],
            [
             1,
             "#f0f921"
            ]
           ],
           "sequentialminus": [
            [
             0,
             "#0d0887"
            ],
            [
             0.1111111111111111,
             "#46039f"
            ],
            [
             0.2222222222222222,
             "#7201a8"
            ],
            [
             0.3333333333333333,
             "#9c179e"
            ],
            [
             0.4444444444444444,
             "#bd3786"
            ],
            [
             0.5555555555555556,
             "#d8576b"
            ],
            [
             0.6666666666666666,
             "#ed7953"
            ],
            [
             0.7777777777777778,
             "#fb9f3a"
            ],
            [
             0.8888888888888888,
             "#fdca26"
            ],
            [
             1,
             "#f0f921"
            ]
           ]
          },
          "colorway": [
           "#636efa",
           "#EF553B",
           "#00cc96",
           "#ab63fa",
           "#FFA15A",
           "#19d3f3",
           "#FF6692",
           "#B6E880",
           "#FF97FF",
           "#FECB52"
          ],
          "font": {
           "color": "#2a3f5f"
          },
          "geo": {
           "bgcolor": "white",
           "lakecolor": "white",
           "landcolor": "#E5ECF6",
           "showlakes": true,
           "showland": true,
           "subunitcolor": "white"
          },
          "hoverlabel": {
           "align": "left"
          },
          "hovermode": "closest",
          "mapbox": {
           "style": "light"
          },
          "paper_bgcolor": "white",
          "plot_bgcolor": "#E5ECF6",
          "polar": {
           "angularaxis": {
            "gridcolor": "white",
            "linecolor": "white",
            "ticks": ""
           },
           "bgcolor": "#E5ECF6",
           "radialaxis": {
            "gridcolor": "white",
            "linecolor": "white",
            "ticks": ""
           }
          },
          "scene": {
           "xaxis": {
            "backgroundcolor": "#E5ECF6",
            "gridcolor": "white",
            "gridwidth": 2,
            "linecolor": "white",
            "showbackground": true,
            "ticks": "",
            "zerolinecolor": "white"
           },
           "yaxis": {
            "backgroundcolor": "#E5ECF6",
            "gridcolor": "white",
            "gridwidth": 2,
            "linecolor": "white",
            "showbackground": true,
            "ticks": "",
            "zerolinecolor": "white"
           },
           "zaxis": {
            "backgroundcolor": "#E5ECF6",
            "gridcolor": "white",
            "gridwidth": 2,
            "linecolor": "white",
            "showbackground": true,
            "ticks": "",
            "zerolinecolor": "white"
           }
          },
          "shapedefaults": {
           "line": {
            "color": "#2a3f5f"
           }
          },
          "ternary": {
           "aaxis": {
            "gridcolor": "white",
            "linecolor": "white",
            "ticks": ""
           },
           "baxis": {
            "gridcolor": "white",
            "linecolor": "white",
            "ticks": ""
           },
           "bgcolor": "#E5ECF6",
           "caxis": {
            "gridcolor": "white",
            "linecolor": "white",
            "ticks": ""
           }
          },
          "title": {
           "x": 0.05
          },
          "xaxis": {
           "automargin": true,
           "gridcolor": "white",
           "linecolor": "white",
           "ticks": "",
           "title": {
            "standoff": 15
           },
           "zerolinecolor": "white",
           "zerolinewidth": 2
          },
          "yaxis": {
           "automargin": true,
           "gridcolor": "white",
           "linecolor": "white",
           "ticks": "",
           "title": {
            "standoff": 15
           },
           "zerolinecolor": "white",
           "zerolinewidth": 2
          }
         }
        },
        "title": {
         "text": "Category-Based Price and Rating Analysis"
        }
       }
      }
     },
     "metadata": {},
     "output_type": "display_data"
    }
   ],
   "source": [
    "# Initial Treemap\n",
    "\n",
    "# Create treemap for category-based analysis\n",
    "fig = px.treemap(\n",
    "    df,\n",
    "    path=['Category'],  # Group by category\n",
    "    values='Price',     # Size of blocks determined by price\n",
    "    color='Rating',     # Color based on ratings\n",
    "    title=\"Category-Based Price and Rating Analysis\",\n",
    "    color_continuous_scale='viridis'\n",
    ")\n",
    "fig.update_traces(textinfo='label+value+percent entry')\n",
    "fig.show()"
   ]
  },
  {
   "cell_type": "markdown",
   "metadata": {},
   "source": [
    "### Step 3: Feedback Loop for Transformation"
   ]
  },
  {
   "cell_type": "code",
   "execution_count": 4,
   "metadata": {},
   "outputs": [
    {
     "name": "stdout",
     "output_type": "stream",
     "text": [
      "\n",
      "Price Summary:\n",
      "count    1.248021e+06\n",
      "mean     1.062943e-01\n",
      "std      2.414451e+00\n",
      "min      0.000000e+00\n",
      "25%      0.000000e+00\n",
      "50%      0.000000e+00\n",
      "75%      0.000000e+00\n",
      "max      4.000000e+02\n",
      "Name: Price, dtype: float64\n",
      "\n",
      "Feedback Options:\n",
      "1. Remove outliers in the 'Price' column (above 99th percentile).\n",
      "2. Normalize the 'Price' column (min-max scaling).\n",
      "3. Proceed without transformation.\n",
      "Price column normalized (min: 0.00, max: 400.00).\n"
     ]
    }
   ],
   "source": [
    "# Handle Outliers and Inconsistencies\n",
    "\n",
    "# Identify potential issues in Price column (e.g., extreme values)\n",
    "print(\"\\nPrice Summary:\")\n",
    "print(df['Price'].describe())\n",
    "\n",
    "# Provide user options for transformation\n",
    "print(\"\\nFeedback Options:\")\n",
    "print(\"1. Remove outliers in the 'Price' column (above 99th percentile).\")\n",
    "print(\"2. Normalize the 'Price' column (min-max scaling).\")\n",
    "print(\"3. Proceed without transformation.\")\n",
    "\n",
    "# User input\n",
    "choice = int(input(\"Enter your choice (1, 2, or 3): \"))\n",
    "\n",
    "if choice == 1:\n",
    "    # Remove outliers in Price\n",
    "    price_cap = df['Price'].quantile(0.99)\n",
    "    df = df[df['Price'] <= price_cap]\n",
    "    print(f\"Outliers removed. Price capped at 99th percentile: {price_cap:.2f}\")\n",
    "elif choice == 2:\n",
    "    # Normalize Price column\n",
    "    min_price = df['Price'].min()\n",
    "    max_price = df['Price'].max()\n",
    "    df['Price'] = (df['Price'] - min_price) / (max_price - min_price)\n",
    "    print(f\"Price column normalized (min: {min_price:.2f}, max: {max_price:.2f}).\")\n",
    "elif choice == 3:\n",
    "    print(\"Proceeding without transformation.\")\n",
    "else:\n",
    "    print(\"Invalid choice. No transformations applied.\")"
   ]
  },
  {
   "cell_type": "markdown",
   "metadata": {},
   "source": [
    "### Step 4: Re-Visualize Treemap Post-Transformation"
   ]
  },
  {
   "cell_type": "code",
   "execution_count": 5,
   "metadata": {},
   "outputs": [
    {
     "data": {
      "application/vnd.plotly.v1+json": {
       "config": {
        "plotlyServerURL": "https://plot.ly"
       },
       "data": [
        {
         "branchvalues": "total",
         "customdata": [
          [
           3.5805108093797955
          ],
          [
           3.945605771810092
          ],
          [
           3.133220064707551
          ],
          [
           1.3409284055897086
          ],
          [
           2.644794963359115
          ],
          [
           1.6077015643802648
          ],
          [
           3.6726552509515202
          ],
          [
           2.138376258355915
          ],
          [
           1.3205153132359975
          ],
          [
           3.7436392376204513
          ],
          [
           3.254780511336228
          ],
          [
           2.8194958054034425
          ],
          [
           3.7539348079161816
          ],
          [
           2.2182001343183346
          ],
          [
           0.745503053419627
          ],
          [
           1.7388823457085985
          ],
          [
           2.090624927190585
          ],
          [
           2.61772744648318
          ],
          [
           0
          ],
          [
           2.155477558319138
          ],
          [
           2.737665606102236
          ],
          [
           1.9422957849528546
          ],
          [
           2.202599611273081
          ],
          [
           2.576366922729327
          ],
          [
           2.3525715540033647
          ],
          [
           1.9164928811963768
          ],
          [
           0.8469017289141669
          ],
          [
           2.9578317137198913
          ],
          [
           2.839217092541361
          ],
          [
           2.887072958888245
          ],
          [
           2.426425756947325
          ],
          [
           2.274592663073675
          ],
          [
           3.5732221446565693
          ],
          [
           1.728422844305965
          ],
          [
           3.214084528796173
          ],
          [
           3.214036605354216
          ],
          [
           4.0483579324799965
          ],
          [
           2.37535055875863
          ],
          [
           2.869571677860226
          ],
          [
           0.8859838231372772
          ],
          [
           2.6440610820515698
          ],
          [
           3.5050532296390773
          ],
          [
           2.448406256621199
          ],
          [
           1.449142539266622
          ],
          [
           2.179133602185508
          ],
          [
           3.2041778272229102
          ],
          [
           3.7758741444766226
          ],
          [
           3.2167316536692665
          ]
         ],
         "domain": {
          "x": [
           0,
           1
          ],
          "y": [
           0,
           1
          ]
         },
         "hovertemplate": "labels=%{label}<br>Price=%{value}<br>parent=%{parent}<br>id=%{id}<br>Rating=%{color}<extra></extra>",
         "ids": [
          "Action",
          "Adventure",
          "Arcade",
          "Art & Design",
          "Auto & Vehicles",
          "Beauty",
          "Board",
          "Books & Reference",
          "Business",
          "Card",
          "Casino",
          "Casual",
          "Comics",
          "Communication",
          "Dating",
          "Education",
          "Educational",
          "Entertainment",
          "Events",
          "Finance",
          "Food & Drink",
          "Health & Fitness",
          "House & Home",
          "Libraries & Demo",
          "Lifestyle",
          "Maps & Navigation",
          "Medical",
          "Music",
          "Music & Audio",
          "News & Magazines",
          "Parenting",
          "Personalization",
          "Photography",
          "Productivity",
          "Puzzle",
          "Racing",
          "Role Playing",
          "Shopping",
          "Simulation",
          "Social",
          "Sports",
          "Strategy",
          "Tools",
          "Travel & Local",
          "Trivia",
          "Video Players & Editors",
          "Weather",
          "Word"
         ],
         "labels": [
          "Action",
          "Adventure",
          "Arcade",
          "Art & Design",
          "Auto & Vehicles",
          "Beauty",
          "Board",
          "Books & Reference",
          "Business",
          "Card",
          "Casino",
          "Casual",
          "Comics",
          "Communication",
          "Dating",
          "Education",
          "Educational",
          "Entertainment",
          "Events",
          "Finance",
          "Food & Drink",
          "Health & Fitness",
          "House & Home",
          "Libraries & Demo",
          "Lifestyle",
          "Maps & Navigation",
          "Medical",
          "Music",
          "Music & Audio",
          "News & Magazines",
          "Parenting",
          "Personalization",
          "Photography",
          "Productivity",
          "Puzzle",
          "Racing",
          "Role Playing",
          "Shopping",
          "Simulation",
          "Social",
          "Sports",
          "Strategy",
          "Tools",
          "Travel & Local",
          "Trivia",
          "Video Players & Editors",
          "Weather",
          "Word"
         ],
         "marker": {
          "coloraxis": "coloraxis",
          "colors": [
           3.5805108093797955,
           3.945605771810092,
           3.133220064707551,
           1.3409284055897086,
           2.644794963359115,
           1.6077015643802648,
           3.6726552509515202,
           2.138376258355915,
           1.3205153132359975,
           3.7436392376204513,
           3.254780511336228,
           2.8194958054034425,
           3.7539348079161816,
           2.2182001343183346,
           0.745503053419627,
           1.7388823457085985,
           2.090624927190585,
           2.61772744648318,
           0,
           2.155477558319138,
           2.737665606102236,
           1.9422957849528546,
           2.202599611273081,
           2.576366922729327,
           2.3525715540033647,
           1.9164928811963768,
           0.8469017289141669,
           2.9578317137198913,
           2.839217092541361,
           2.887072958888245,
           2.426425756947325,
           2.274592663073675,
           3.5732221446565693,
           1.728422844305965,
           3.214084528796173,
           3.214036605354216,
           4.0483579324799965,
           2.37535055875863,
           2.869571677860226,
           0.8859838231372772,
           2.6440610820515698,
           3.5050532296390773,
           2.448406256621199,
           1.449142539266622,
           2.179133602185508,
           3.2041778272229102,
           3.7758741444766226,
           3.2167316536692665
          ]
         },
         "name": "",
         "parents": [
          "",
          "",
          "",
          "",
          "",
          "",
          "",
          "",
          "",
          "",
          "",
          "",
          "",
          "",
          "",
          "",
          "",
          "",
          "",
          "",
          "",
          "",
          "",
          "",
          "",
          "",
          "",
          "",
          "",
          "",
          "",
          "",
          "",
          "",
          "",
          "",
          "",
          "",
          "",
          "",
          "",
          "",
          "",
          "",
          "",
          "",
          "",
          ""
         ],
         "textinfo": "label+value+percent entry",
         "type": "treemap",
         "values": [
          2.785775,
          7.2444757075,
          2.520220535,
          1.712075,
          2.9543500000000003,
          0.062325,
          3.303925,
          29.3742808,
          11.134975,
          1.64485,
          0.259125,
          2.5167566425,
          0.21475,
          3.1269,
          1.2322250000000001,
          59.19531389,
          6.74277494,
          6.2784,
          0.044925,
          4.6940569825,
          0.8252398200000001,
          9.300061695,
          0.4116,
          0.165975,
          13.6578910375,
          6.9129405525,
          46.37230322,
          0.542825,
          10.043731495000001,
          0.3454,
          0.4822,
          7.1992,
          3.2947,
          16.31438944,
          4.8817494,
          0.5491,
          5.540651885,
          0.351225,
          4.34815826,
          3.093925,
          13.6741910025,
          2.60410182,
          20.65458526,
          8.9532824375,
          0.38435,
          1.6804260625,
          1.5169687025,
          0.5001
         ]
        }
       ],
       "layout": {
        "coloraxis": {
         "colorbar": {
          "title": {
           "text": "Rating"
          }
         },
         "colorscale": [
          [
           0,
           "#0d0887"
          ],
          [
           0.1111111111111111,
           "#46039f"
          ],
          [
           0.2222222222222222,
           "#7201a8"
          ],
          [
           0.3333333333333333,
           "#9c179e"
          ],
          [
           0.4444444444444444,
           "#bd3786"
          ],
          [
           0.5555555555555556,
           "#d8576b"
          ],
          [
           0.6666666666666666,
           "#ed7953"
          ],
          [
           0.7777777777777778,
           "#fb9f3a"
          ],
          [
           0.8888888888888888,
           "#fdca26"
          ],
          [
           1,
           "#f0f921"
          ]
         ]
        },
        "legend": {
         "tracegroupgap": 0
        },
        "template": {
         "data": {
          "bar": [
           {
            "error_x": {
             "color": "#2a3f5f"
            },
            "error_y": {
             "color": "#2a3f5f"
            },
            "marker": {
             "line": {
              "color": "#E5ECF6",
              "width": 0.5
             },
             "pattern": {
              "fillmode": "overlay",
              "size": 10,
              "solidity": 0.2
             }
            },
            "type": "bar"
           }
          ],
          "barpolar": [
           {
            "marker": {
             "line": {
              "color": "#E5ECF6",
              "width": 0.5
             },
             "pattern": {
              "fillmode": "overlay",
              "size": 10,
              "solidity": 0.2
             }
            },
            "type": "barpolar"
           }
          ],
          "carpet": [
           {
            "aaxis": {
             "endlinecolor": "#2a3f5f",
             "gridcolor": "white",
             "linecolor": "white",
             "minorgridcolor": "white",
             "startlinecolor": "#2a3f5f"
            },
            "baxis": {
             "endlinecolor": "#2a3f5f",
             "gridcolor": "white",
             "linecolor": "white",
             "minorgridcolor": "white",
             "startlinecolor": "#2a3f5f"
            },
            "type": "carpet"
           }
          ],
          "choropleth": [
           {
            "colorbar": {
             "outlinewidth": 0,
             "ticks": ""
            },
            "type": "choropleth"
           }
          ],
          "contour": [
           {
            "colorbar": {
             "outlinewidth": 0,
             "ticks": ""
            },
            "colorscale": [
             [
              0,
              "#0d0887"
             ],
             [
              0.1111111111111111,
              "#46039f"
             ],
             [
              0.2222222222222222,
              "#7201a8"
             ],
             [
              0.3333333333333333,
              "#9c179e"
             ],
             [
              0.4444444444444444,
              "#bd3786"
             ],
             [
              0.5555555555555556,
              "#d8576b"
             ],
             [
              0.6666666666666666,
              "#ed7953"
             ],
             [
              0.7777777777777778,
              "#fb9f3a"
             ],
             [
              0.8888888888888888,
              "#fdca26"
             ],
             [
              1,
              "#f0f921"
             ]
            ],
            "type": "contour"
           }
          ],
          "contourcarpet": [
           {
            "colorbar": {
             "outlinewidth": 0,
             "ticks": ""
            },
            "type": "contourcarpet"
           }
          ],
          "heatmap": [
           {
            "colorbar": {
             "outlinewidth": 0,
             "ticks": ""
            },
            "colorscale": [
             [
              0,
              "#0d0887"
             ],
             [
              0.1111111111111111,
              "#46039f"
             ],
             [
              0.2222222222222222,
              "#7201a8"
             ],
             [
              0.3333333333333333,
              "#9c179e"
             ],
             [
              0.4444444444444444,
              "#bd3786"
             ],
             [
              0.5555555555555556,
              "#d8576b"
             ],
             [
              0.6666666666666666,
              "#ed7953"
             ],
             [
              0.7777777777777778,
              "#fb9f3a"
             ],
             [
              0.8888888888888888,
              "#fdca26"
             ],
             [
              1,
              "#f0f921"
             ]
            ],
            "type": "heatmap"
           }
          ],
          "heatmapgl": [
           {
            "colorbar": {
             "outlinewidth": 0,
             "ticks": ""
            },
            "colorscale": [
             [
              0,
              "#0d0887"
             ],
             [
              0.1111111111111111,
              "#46039f"
             ],
             [
              0.2222222222222222,
              "#7201a8"
             ],
             [
              0.3333333333333333,
              "#9c179e"
             ],
             [
              0.4444444444444444,
              "#bd3786"
             ],
             [
              0.5555555555555556,
              "#d8576b"
             ],
             [
              0.6666666666666666,
              "#ed7953"
             ],
             [
              0.7777777777777778,
              "#fb9f3a"
             ],
             [
              0.8888888888888888,
              "#fdca26"
             ],
             [
              1,
              "#f0f921"
             ]
            ],
            "type": "heatmapgl"
           }
          ],
          "histogram": [
           {
            "marker": {
             "pattern": {
              "fillmode": "overlay",
              "size": 10,
              "solidity": 0.2
             }
            },
            "type": "histogram"
           }
          ],
          "histogram2d": [
           {
            "colorbar": {
             "outlinewidth": 0,
             "ticks": ""
            },
            "colorscale": [
             [
              0,
              "#0d0887"
             ],
             [
              0.1111111111111111,
              "#46039f"
             ],
             [
              0.2222222222222222,
              "#7201a8"
             ],
             [
              0.3333333333333333,
              "#9c179e"
             ],
             [
              0.4444444444444444,
              "#bd3786"
             ],
             [
              0.5555555555555556,
              "#d8576b"
             ],
             [
              0.6666666666666666,
              "#ed7953"
             ],
             [
              0.7777777777777778,
              "#fb9f3a"
             ],
             [
              0.8888888888888888,
              "#fdca26"
             ],
             [
              1,
              "#f0f921"
             ]
            ],
            "type": "histogram2d"
           }
          ],
          "histogram2dcontour": [
           {
            "colorbar": {
             "outlinewidth": 0,
             "ticks": ""
            },
            "colorscale": [
             [
              0,
              "#0d0887"
             ],
             [
              0.1111111111111111,
              "#46039f"
             ],
             [
              0.2222222222222222,
              "#7201a8"
             ],
             [
              0.3333333333333333,
              "#9c179e"
             ],
             [
              0.4444444444444444,
              "#bd3786"
             ],
             [
              0.5555555555555556,
              "#d8576b"
             ],
             [
              0.6666666666666666,
              "#ed7953"
             ],
             [
              0.7777777777777778,
              "#fb9f3a"
             ],
             [
              0.8888888888888888,
              "#fdca26"
             ],
             [
              1,
              "#f0f921"
             ]
            ],
            "type": "histogram2dcontour"
           }
          ],
          "mesh3d": [
           {
            "colorbar": {
             "outlinewidth": 0,
             "ticks": ""
            },
            "type": "mesh3d"
           }
          ],
          "parcoords": [
           {
            "line": {
             "colorbar": {
              "outlinewidth": 0,
              "ticks": ""
             }
            },
            "type": "parcoords"
           }
          ],
          "pie": [
           {
            "automargin": true,
            "type": "pie"
           }
          ],
          "scatter": [
           {
            "fillpattern": {
             "fillmode": "overlay",
             "size": 10,
             "solidity": 0.2
            },
            "type": "scatter"
           }
          ],
          "scatter3d": [
           {
            "line": {
             "colorbar": {
              "outlinewidth": 0,
              "ticks": ""
             }
            },
            "marker": {
             "colorbar": {
              "outlinewidth": 0,
              "ticks": ""
             }
            },
            "type": "scatter3d"
           }
          ],
          "scattercarpet": [
           {
            "marker": {
             "colorbar": {
              "outlinewidth": 0,
              "ticks": ""
             }
            },
            "type": "scattercarpet"
           }
          ],
          "scattergeo": [
           {
            "marker": {
             "colorbar": {
              "outlinewidth": 0,
              "ticks": ""
             }
            },
            "type": "scattergeo"
           }
          ],
          "scattergl": [
           {
            "marker": {
             "colorbar": {
              "outlinewidth": 0,
              "ticks": ""
             }
            },
            "type": "scattergl"
           }
          ],
          "scattermapbox": [
           {
            "marker": {
             "colorbar": {
              "outlinewidth": 0,
              "ticks": ""
             }
            },
            "type": "scattermapbox"
           }
          ],
          "scatterpolar": [
           {
            "marker": {
             "colorbar": {
              "outlinewidth": 0,
              "ticks": ""
             }
            },
            "type": "scatterpolar"
           }
          ],
          "scatterpolargl": [
           {
            "marker": {
             "colorbar": {
              "outlinewidth": 0,
              "ticks": ""
             }
            },
            "type": "scatterpolargl"
           }
          ],
          "scatterternary": [
           {
            "marker": {
             "colorbar": {
              "outlinewidth": 0,
              "ticks": ""
             }
            },
            "type": "scatterternary"
           }
          ],
          "surface": [
           {
            "colorbar": {
             "outlinewidth": 0,
             "ticks": ""
            },
            "colorscale": [
             [
              0,
              "#0d0887"
             ],
             [
              0.1111111111111111,
              "#46039f"
             ],
             [
              0.2222222222222222,
              "#7201a8"
             ],
             [
              0.3333333333333333,
              "#9c179e"
             ],
             [
              0.4444444444444444,
              "#bd3786"
             ],
             [
              0.5555555555555556,
              "#d8576b"
             ],
             [
              0.6666666666666666,
              "#ed7953"
             ],
             [
              0.7777777777777778,
              "#fb9f3a"
             ],
             [
              0.8888888888888888,
              "#fdca26"
             ],
             [
              1,
              "#f0f921"
             ]
            ],
            "type": "surface"
           }
          ],
          "table": [
           {
            "cells": {
             "fill": {
              "color": "#EBF0F8"
             },
             "line": {
              "color": "white"
             }
            },
            "header": {
             "fill": {
              "color": "#C8D4E3"
             },
             "line": {
              "color": "white"
             }
            },
            "type": "table"
           }
          ]
         },
         "layout": {
          "annotationdefaults": {
           "arrowcolor": "#2a3f5f",
           "arrowhead": 0,
           "arrowwidth": 1
          },
          "autotypenumbers": "strict",
          "coloraxis": {
           "colorbar": {
            "outlinewidth": 0,
            "ticks": ""
           }
          },
          "colorscale": {
           "diverging": [
            [
             0,
             "#8e0152"
            ],
            [
             0.1,
             "#c51b7d"
            ],
            [
             0.2,
             "#de77ae"
            ],
            [
             0.3,
             "#f1b6da"
            ],
            [
             0.4,
             "#fde0ef"
            ],
            [
             0.5,
             "#f7f7f7"
            ],
            [
             0.6,
             "#e6f5d0"
            ],
            [
             0.7,
             "#b8e186"
            ],
            [
             0.8,
             "#7fbc41"
            ],
            [
             0.9,
             "#4d9221"
            ],
            [
             1,
             "#276419"
            ]
           ],
           "sequential": [
            [
             0,
             "#0d0887"
            ],
            [
             0.1111111111111111,
             "#46039f"
            ],
            [
             0.2222222222222222,
             "#7201a8"
            ],
            [
             0.3333333333333333,
             "#9c179e"
            ],
            [
             0.4444444444444444,
             "#bd3786"
            ],
            [
             0.5555555555555556,
             "#d8576b"
            ],
            [
             0.6666666666666666,
             "#ed7953"
            ],
            [
             0.7777777777777778,
             "#fb9f3a"
            ],
            [
             0.8888888888888888,
             "#fdca26"
            ],
            [
             1,
             "#f0f921"
            ]
           ],
           "sequentialminus": [
            [
             0,
             "#0d0887"
            ],
            [
             0.1111111111111111,
             "#46039f"
            ],
            [
             0.2222222222222222,
             "#7201a8"
            ],
            [
             0.3333333333333333,
             "#9c179e"
            ],
            [
             0.4444444444444444,
             "#bd3786"
            ],
            [
             0.5555555555555556,
             "#d8576b"
            ],
            [
             0.6666666666666666,
             "#ed7953"
            ],
            [
             0.7777777777777778,
             "#fb9f3a"
            ],
            [
             0.8888888888888888,
             "#fdca26"
            ],
            [
             1,
             "#f0f921"
            ]
           ]
          },
          "colorway": [
           "#636efa",
           "#EF553B",
           "#00cc96",
           "#ab63fa",
           "#FFA15A",
           "#19d3f3",
           "#FF6692",
           "#B6E880",
           "#FF97FF",
           "#FECB52"
          ],
          "font": {
           "color": "#2a3f5f"
          },
          "geo": {
           "bgcolor": "white",
           "lakecolor": "white",
           "landcolor": "#E5ECF6",
           "showlakes": true,
           "showland": true,
           "subunitcolor": "white"
          },
          "hoverlabel": {
           "align": "left"
          },
          "hovermode": "closest",
          "mapbox": {
           "style": "light"
          },
          "paper_bgcolor": "white",
          "plot_bgcolor": "#E5ECF6",
          "polar": {
           "angularaxis": {
            "gridcolor": "white",
            "linecolor": "white",
            "ticks": ""
           },
           "bgcolor": "#E5ECF6",
           "radialaxis": {
            "gridcolor": "white",
            "linecolor": "white",
            "ticks": ""
           }
          },
          "scene": {
           "xaxis": {
            "backgroundcolor": "#E5ECF6",
            "gridcolor": "white",
            "gridwidth": 2,
            "linecolor": "white",
            "showbackground": true,
            "ticks": "",
            "zerolinecolor": "white"
           },
           "yaxis": {
            "backgroundcolor": "#E5ECF6",
            "gridcolor": "white",
            "gridwidth": 2,
            "linecolor": "white",
            "showbackground": true,
            "ticks": "",
            "zerolinecolor": "white"
           },
           "zaxis": {
            "backgroundcolor": "#E5ECF6",
            "gridcolor": "white",
            "gridwidth": 2,
            "linecolor": "white",
            "showbackground": true,
            "ticks": "",
            "zerolinecolor": "white"
           }
          },
          "shapedefaults": {
           "line": {
            "color": "#2a3f5f"
           }
          },
          "ternary": {
           "aaxis": {
            "gridcolor": "white",
            "linecolor": "white",
            "ticks": ""
           },
           "baxis": {
            "gridcolor": "white",
            "linecolor": "white",
            "ticks": ""
           },
           "bgcolor": "#E5ECF6",
           "caxis": {
            "gridcolor": "white",
            "linecolor": "white",
            "ticks": ""
           }
          },
          "title": {
           "x": 0.05
          },
          "xaxis": {
           "automargin": true,
           "gridcolor": "white",
           "linecolor": "white",
           "ticks": "",
           "title": {
            "standoff": 15
           },
           "zerolinecolor": "white",
           "zerolinewidth": 2
          },
          "yaxis": {
           "automargin": true,
           "gridcolor": "white",
           "linecolor": "white",
           "ticks": "",
           "title": {
            "standoff": 15
           },
           "zerolinecolor": "white",
           "zerolinewidth": 2
          }
         }
        },
        "title": {
         "text": "Updated Category-Based Price and Rating Analysis"
        }
       }
      }
     },
     "metadata": {},
     "output_type": "display_data"
    }
   ],
   "source": [
    "# Create updated treemap\n",
    "fig = px.treemap(\n",
    "    df,\n",
    "    path=['Category'],  # Group by category\n",
    "    values='Price',     # Size of blocks determined by price\n",
    "    color='Rating',     # Color based on ratings\n",
    "    title=\"Updated Category-Based Price and Rating Analysis\",\n",
    "    color_continuous_scale='plasma'\n",
    ")\n",
    "fig.update_traces(textinfo='label+value+percent entry')\n",
    "fig.show()"
   ]
  },
  {
   "cell_type": "markdown",
   "metadata": {},
   "source": [
    "### Step 5: Sunburst Visualization (Optional Alternative)"
   ]
  },
  {
   "cell_type": "code",
   "execution_count": 6,
   "metadata": {},
   "outputs": [
    {
     "data": {
      "application/vnd.plotly.v1+json": {
       "config": {
        "plotlyServerURL": "https://plot.ly"
       },
       "data": [
        {
         "branchvalues": "total",
         "customdata": [
          [
           3.5805108093797955
          ],
          [
           3.945605771810092
          ],
          [
           3.133220064707551
          ],
          [
           1.3409284055897086
          ],
          [
           2.644794963359115
          ],
          [
           1.6077015643802648
          ],
          [
           3.6726552509515202
          ],
          [
           2.138376258355915
          ],
          [
           1.3205153132359975
          ],
          [
           3.7436392376204513
          ],
          [
           3.254780511336228
          ],
          [
           2.8194958054034425
          ],
          [
           3.7539348079161816
          ],
          [
           2.2182001343183346
          ],
          [
           0.745503053419627
          ],
          [
           1.7388823457085985
          ],
          [
           2.090624927190585
          ],
          [
           2.61772744648318
          ],
          [
           0
          ],
          [
           2.155477558319138
          ],
          [
           2.737665606102236
          ],
          [
           1.9422957849528546
          ],
          [
           2.202599611273081
          ],
          [
           2.576366922729327
          ],
          [
           2.3525715540033647
          ],
          [
           1.9164928811963768
          ],
          [
           0.8469017289141669
          ],
          [
           2.9578317137198913
          ],
          [
           2.839217092541361
          ],
          [
           2.887072958888245
          ],
          [
           2.426425756947325
          ],
          [
           2.274592663073675
          ],
          [
           3.5732221446565693
          ],
          [
           1.728422844305965
          ],
          [
           3.214084528796173
          ],
          [
           3.214036605354216
          ],
          [
           4.0483579324799965
          ],
          [
           2.37535055875863
          ],
          [
           2.869571677860226
          ],
          [
           0.8859838231372772
          ],
          [
           2.6440610820515698
          ],
          [
           3.5050532296390773
          ],
          [
           2.448406256621199
          ],
          [
           1.449142539266622
          ],
          [
           2.179133602185508
          ],
          [
           3.2041778272229102
          ],
          [
           3.7758741444766226
          ],
          [
           3.2167316536692665
          ]
         ],
         "domain": {
          "x": [
           0,
           1
          ],
          "y": [
           0,
           1
          ]
         },
         "hovertemplate": "labels=%{label}<br>Price=%{value}<br>parent=%{parent}<br>id=%{id}<br>Rating=%{color}<extra></extra>",
         "ids": [
          "Action",
          "Adventure",
          "Arcade",
          "Art & Design",
          "Auto & Vehicles",
          "Beauty",
          "Board",
          "Books & Reference",
          "Business",
          "Card",
          "Casino",
          "Casual",
          "Comics",
          "Communication",
          "Dating",
          "Education",
          "Educational",
          "Entertainment",
          "Events",
          "Finance",
          "Food & Drink",
          "Health & Fitness",
          "House & Home",
          "Libraries & Demo",
          "Lifestyle",
          "Maps & Navigation",
          "Medical",
          "Music",
          "Music & Audio",
          "News & Magazines",
          "Parenting",
          "Personalization",
          "Photography",
          "Productivity",
          "Puzzle",
          "Racing",
          "Role Playing",
          "Shopping",
          "Simulation",
          "Social",
          "Sports",
          "Strategy",
          "Tools",
          "Travel & Local",
          "Trivia",
          "Video Players & Editors",
          "Weather",
          "Word"
         ],
         "labels": [
          "Action",
          "Adventure",
          "Arcade",
          "Art & Design",
          "Auto & Vehicles",
          "Beauty",
          "Board",
          "Books & Reference",
          "Business",
          "Card",
          "Casino",
          "Casual",
          "Comics",
          "Communication",
          "Dating",
          "Education",
          "Educational",
          "Entertainment",
          "Events",
          "Finance",
          "Food & Drink",
          "Health & Fitness",
          "House & Home",
          "Libraries & Demo",
          "Lifestyle",
          "Maps & Navigation",
          "Medical",
          "Music",
          "Music & Audio",
          "News & Magazines",
          "Parenting",
          "Personalization",
          "Photography",
          "Productivity",
          "Puzzle",
          "Racing",
          "Role Playing",
          "Shopping",
          "Simulation",
          "Social",
          "Sports",
          "Strategy",
          "Tools",
          "Travel & Local",
          "Trivia",
          "Video Players & Editors",
          "Weather",
          "Word"
         ],
         "marker": {
          "coloraxis": "coloraxis",
          "colors": [
           3.5805108093797955,
           3.945605771810092,
           3.133220064707551,
           1.3409284055897086,
           2.644794963359115,
           1.6077015643802648,
           3.6726552509515202,
           2.138376258355915,
           1.3205153132359975,
           3.7436392376204513,
           3.254780511336228,
           2.8194958054034425,
           3.7539348079161816,
           2.2182001343183346,
           0.745503053419627,
           1.7388823457085985,
           2.090624927190585,
           2.61772744648318,
           0,
           2.155477558319138,
           2.737665606102236,
           1.9422957849528546,
           2.202599611273081,
           2.576366922729327,
           2.3525715540033647,
           1.9164928811963768,
           0.8469017289141669,
           2.9578317137198913,
           2.839217092541361,
           2.887072958888245,
           2.426425756947325,
           2.274592663073675,
           3.5732221446565693,
           1.728422844305965,
           3.214084528796173,
           3.214036605354216,
           4.0483579324799965,
           2.37535055875863,
           2.869571677860226,
           0.8859838231372772,
           2.6440610820515698,
           3.5050532296390773,
           2.448406256621199,
           1.449142539266622,
           2.179133602185508,
           3.2041778272229102,
           3.7758741444766226,
           3.2167316536692665
          ]
         },
         "name": "",
         "parents": [
          "",
          "",
          "",
          "",
          "",
          "",
          "",
          "",
          "",
          "",
          "",
          "",
          "",
          "",
          "",
          "",
          "",
          "",
          "",
          "",
          "",
          "",
          "",
          "",
          "",
          "",
          "",
          "",
          "",
          "",
          "",
          "",
          "",
          "",
          "",
          "",
          "",
          "",
          "",
          "",
          "",
          "",
          "",
          "",
          "",
          "",
          "",
          ""
         ],
         "textinfo": "label+percent parent+percent entry",
         "type": "sunburst",
         "values": [
          2.785775,
          7.2444757075,
          2.520220535,
          1.712075,
          2.9543500000000003,
          0.062325,
          3.303925,
          29.3742808,
          11.134975,
          1.64485,
          0.259125,
          2.5167566425,
          0.21475,
          3.1269,
          1.2322250000000001,
          59.19531389,
          6.74277494,
          6.2784,
          0.044925,
          4.6940569825,
          0.8252398200000001,
          9.300061695,
          0.4116,
          0.165975,
          13.6578910375,
          6.9129405525,
          46.37230322,
          0.542825,
          10.043731495000001,
          0.3454,
          0.4822,
          7.1992,
          3.2947,
          16.31438944,
          4.8817494,
          0.5491,
          5.540651885,
          0.351225,
          4.34815826,
          3.093925,
          13.6741910025,
          2.60410182,
          20.65458526,
          8.9532824375,
          0.38435,
          1.6804260625,
          1.5169687025,
          0.5001
         ]
        }
       ],
       "layout": {
        "coloraxis": {
         "colorbar": {
          "title": {
           "text": "Rating"
          }
         },
         "colorscale": [
          [
           0,
           "#000004"
          ],
          [
           0.1111111111111111,
           "#180f3d"
          ],
          [
           0.2222222222222222,
           "#440f76"
          ],
          [
           0.3333333333333333,
           "#721f81"
          ],
          [
           0.4444444444444444,
           "#9e2f7f"
          ],
          [
           0.5555555555555556,
           "#cd4071"
          ],
          [
           0.6666666666666666,
           "#f1605d"
          ],
          [
           0.7777777777777778,
           "#fd9668"
          ],
          [
           0.8888888888888888,
           "#feca8d"
          ],
          [
           1,
           "#fcfdbf"
          ]
         ]
        },
        "legend": {
         "tracegroupgap": 0
        },
        "template": {
         "data": {
          "bar": [
           {
            "error_x": {
             "color": "#2a3f5f"
            },
            "error_y": {
             "color": "#2a3f5f"
            },
            "marker": {
             "line": {
              "color": "#E5ECF6",
              "width": 0.5
             },
             "pattern": {
              "fillmode": "overlay",
              "size": 10,
              "solidity": 0.2
             }
            },
            "type": "bar"
           }
          ],
          "barpolar": [
           {
            "marker": {
             "line": {
              "color": "#E5ECF6",
              "width": 0.5
             },
             "pattern": {
              "fillmode": "overlay",
              "size": 10,
              "solidity": 0.2
             }
            },
            "type": "barpolar"
           }
          ],
          "carpet": [
           {
            "aaxis": {
             "endlinecolor": "#2a3f5f",
             "gridcolor": "white",
             "linecolor": "white",
             "minorgridcolor": "white",
             "startlinecolor": "#2a3f5f"
            },
            "baxis": {
             "endlinecolor": "#2a3f5f",
             "gridcolor": "white",
             "linecolor": "white",
             "minorgridcolor": "white",
             "startlinecolor": "#2a3f5f"
            },
            "type": "carpet"
           }
          ],
          "choropleth": [
           {
            "colorbar": {
             "outlinewidth": 0,
             "ticks": ""
            },
            "type": "choropleth"
           }
          ],
          "contour": [
           {
            "colorbar": {
             "outlinewidth": 0,
             "ticks": ""
            },
            "colorscale": [
             [
              0,
              "#0d0887"
             ],
             [
              0.1111111111111111,
              "#46039f"
             ],
             [
              0.2222222222222222,
              "#7201a8"
             ],
             [
              0.3333333333333333,
              "#9c179e"
             ],
             [
              0.4444444444444444,
              "#bd3786"
             ],
             [
              0.5555555555555556,
              "#d8576b"
             ],
             [
              0.6666666666666666,
              "#ed7953"
             ],
             [
              0.7777777777777778,
              "#fb9f3a"
             ],
             [
              0.8888888888888888,
              "#fdca26"
             ],
             [
              1,
              "#f0f921"
             ]
            ],
            "type": "contour"
           }
          ],
          "contourcarpet": [
           {
            "colorbar": {
             "outlinewidth": 0,
             "ticks": ""
            },
            "type": "contourcarpet"
           }
          ],
          "heatmap": [
           {
            "colorbar": {
             "outlinewidth": 0,
             "ticks": ""
            },
            "colorscale": [
             [
              0,
              "#0d0887"
             ],
             [
              0.1111111111111111,
              "#46039f"
             ],
             [
              0.2222222222222222,
              "#7201a8"
             ],
             [
              0.3333333333333333,
              "#9c179e"
             ],
             [
              0.4444444444444444,
              "#bd3786"
             ],
             [
              0.5555555555555556,
              "#d8576b"
             ],
             [
              0.6666666666666666,
              "#ed7953"
             ],
             [
              0.7777777777777778,
              "#fb9f3a"
             ],
             [
              0.8888888888888888,
              "#fdca26"
             ],
             [
              1,
              "#f0f921"
             ]
            ],
            "type": "heatmap"
           }
          ],
          "heatmapgl": [
           {
            "colorbar": {
             "outlinewidth": 0,
             "ticks": ""
            },
            "colorscale": [
             [
              0,
              "#0d0887"
             ],
             [
              0.1111111111111111,
              "#46039f"
             ],
             [
              0.2222222222222222,
              "#7201a8"
             ],
             [
              0.3333333333333333,
              "#9c179e"
             ],
             [
              0.4444444444444444,
              "#bd3786"
             ],
             [
              0.5555555555555556,
              "#d8576b"
             ],
             [
              0.6666666666666666,
              "#ed7953"
             ],
             [
              0.7777777777777778,
              "#fb9f3a"
             ],
             [
              0.8888888888888888,
              "#fdca26"
             ],
             [
              1,
              "#f0f921"
             ]
            ],
            "type": "heatmapgl"
           }
          ],
          "histogram": [
           {
            "marker": {
             "pattern": {
              "fillmode": "overlay",
              "size": 10,
              "solidity": 0.2
             }
            },
            "type": "histogram"
           }
          ],
          "histogram2d": [
           {
            "colorbar": {
             "outlinewidth": 0,
             "ticks": ""
            },
            "colorscale": [
             [
              0,
              "#0d0887"
             ],
             [
              0.1111111111111111,
              "#46039f"
             ],
             [
              0.2222222222222222,
              "#7201a8"
             ],
             [
              0.3333333333333333,
              "#9c179e"
             ],
             [
              0.4444444444444444,
              "#bd3786"
             ],
             [
              0.5555555555555556,
              "#d8576b"
             ],
             [
              0.6666666666666666,
              "#ed7953"
             ],
             [
              0.7777777777777778,
              "#fb9f3a"
             ],
             [
              0.8888888888888888,
              "#fdca26"
             ],
             [
              1,
              "#f0f921"
             ]
            ],
            "type": "histogram2d"
           }
          ],
          "histogram2dcontour": [
           {
            "colorbar": {
             "outlinewidth": 0,
             "ticks": ""
            },
            "colorscale": [
             [
              0,
              "#0d0887"
             ],
             [
              0.1111111111111111,
              "#46039f"
             ],
             [
              0.2222222222222222,
              "#7201a8"
             ],
             [
              0.3333333333333333,
              "#9c179e"
             ],
             [
              0.4444444444444444,
              "#bd3786"
             ],
             [
              0.5555555555555556,
              "#d8576b"
             ],
             [
              0.6666666666666666,
              "#ed7953"
             ],
             [
              0.7777777777777778,
              "#fb9f3a"
             ],
             [
              0.8888888888888888,
              "#fdca26"
             ],
             [
              1,
              "#f0f921"
             ]
            ],
            "type": "histogram2dcontour"
           }
          ],
          "mesh3d": [
           {
            "colorbar": {
             "outlinewidth": 0,
             "ticks": ""
            },
            "type": "mesh3d"
           }
          ],
          "parcoords": [
           {
            "line": {
             "colorbar": {
              "outlinewidth": 0,
              "ticks": ""
             }
            },
            "type": "parcoords"
           }
          ],
          "pie": [
           {
            "automargin": true,
            "type": "pie"
           }
          ],
          "scatter": [
           {
            "fillpattern": {
             "fillmode": "overlay",
             "size": 10,
             "solidity": 0.2
            },
            "type": "scatter"
           }
          ],
          "scatter3d": [
           {
            "line": {
             "colorbar": {
              "outlinewidth": 0,
              "ticks": ""
             }
            },
            "marker": {
             "colorbar": {
              "outlinewidth": 0,
              "ticks": ""
             }
            },
            "type": "scatter3d"
           }
          ],
          "scattercarpet": [
           {
            "marker": {
             "colorbar": {
              "outlinewidth": 0,
              "ticks": ""
             }
            },
            "type": "scattercarpet"
           }
          ],
          "scattergeo": [
           {
            "marker": {
             "colorbar": {
              "outlinewidth": 0,
              "ticks": ""
             }
            },
            "type": "scattergeo"
           }
          ],
          "scattergl": [
           {
            "marker": {
             "colorbar": {
              "outlinewidth": 0,
              "ticks": ""
             }
            },
            "type": "scattergl"
           }
          ],
          "scattermapbox": [
           {
            "marker": {
             "colorbar": {
              "outlinewidth": 0,
              "ticks": ""
             }
            },
            "type": "scattermapbox"
           }
          ],
          "scatterpolar": [
           {
            "marker": {
             "colorbar": {
              "outlinewidth": 0,
              "ticks": ""
             }
            },
            "type": "scatterpolar"
           }
          ],
          "scatterpolargl": [
           {
            "marker": {
             "colorbar": {
              "outlinewidth": 0,
              "ticks": ""
             }
            },
            "type": "scatterpolargl"
           }
          ],
          "scatterternary": [
           {
            "marker": {
             "colorbar": {
              "outlinewidth": 0,
              "ticks": ""
             }
            },
            "type": "scatterternary"
           }
          ],
          "surface": [
           {
            "colorbar": {
             "outlinewidth": 0,
             "ticks": ""
            },
            "colorscale": [
             [
              0,
              "#0d0887"
             ],
             [
              0.1111111111111111,
              "#46039f"
             ],
             [
              0.2222222222222222,
              "#7201a8"
             ],
             [
              0.3333333333333333,
              "#9c179e"
             ],
             [
              0.4444444444444444,
              "#bd3786"
             ],
             [
              0.5555555555555556,
              "#d8576b"
             ],
             [
              0.6666666666666666,
              "#ed7953"
             ],
             [
              0.7777777777777778,
              "#fb9f3a"
             ],
             [
              0.8888888888888888,
              "#fdca26"
             ],
             [
              1,
              "#f0f921"
             ]
            ],
            "type": "surface"
           }
          ],
          "table": [
           {
            "cells": {
             "fill": {
              "color": "#EBF0F8"
             },
             "line": {
              "color": "white"
             }
            },
            "header": {
             "fill": {
              "color": "#C8D4E3"
             },
             "line": {
              "color": "white"
             }
            },
            "type": "table"
           }
          ]
         },
         "layout": {
          "annotationdefaults": {
           "arrowcolor": "#2a3f5f",
           "arrowhead": 0,
           "arrowwidth": 1
          },
          "autotypenumbers": "strict",
          "coloraxis": {
           "colorbar": {
            "outlinewidth": 0,
            "ticks": ""
           }
          },
          "colorscale": {
           "diverging": [
            [
             0,
             "#8e0152"
            ],
            [
             0.1,
             "#c51b7d"
            ],
            [
             0.2,
             "#de77ae"
            ],
            [
             0.3,
             "#f1b6da"
            ],
            [
             0.4,
             "#fde0ef"
            ],
            [
             0.5,
             "#f7f7f7"
            ],
            [
             0.6,
             "#e6f5d0"
            ],
            [
             0.7,
             "#b8e186"
            ],
            [
             0.8,
             "#7fbc41"
            ],
            [
             0.9,
             "#4d9221"
            ],
            [
             1,
             "#276419"
            ]
           ],
           "sequential": [
            [
             0,
             "#0d0887"
            ],
            [
             0.1111111111111111,
             "#46039f"
            ],
            [
             0.2222222222222222,
             "#7201a8"
            ],
            [
             0.3333333333333333,
             "#9c179e"
            ],
            [
             0.4444444444444444,
             "#bd3786"
            ],
            [
             0.5555555555555556,
             "#d8576b"
            ],
            [
             0.6666666666666666,
             "#ed7953"
            ],
            [
             0.7777777777777778,
             "#fb9f3a"
            ],
            [
             0.8888888888888888,
             "#fdca26"
            ],
            [
             1,
             "#f0f921"
            ]
           ],
           "sequentialminus": [
            [
             0,
             "#0d0887"
            ],
            [
             0.1111111111111111,
             "#46039f"
            ],
            [
             0.2222222222222222,
             "#7201a8"
            ],
            [
             0.3333333333333333,
             "#9c179e"
            ],
            [
             0.4444444444444444,
             "#bd3786"
            ],
            [
             0.5555555555555556,
             "#d8576b"
            ],
            [
             0.6666666666666666,
             "#ed7953"
            ],
            [
             0.7777777777777778,
             "#fb9f3a"
            ],
            [
             0.8888888888888888,
             "#fdca26"
            ],
            [
             1,
             "#f0f921"
            ]
           ]
          },
          "colorway": [
           "#636efa",
           "#EF553B",
           "#00cc96",
           "#ab63fa",
           "#FFA15A",
           "#19d3f3",
           "#FF6692",
           "#B6E880",
           "#FF97FF",
           "#FECB52"
          ],
          "font": {
           "color": "#2a3f5f"
          },
          "geo": {
           "bgcolor": "white",
           "lakecolor": "white",
           "landcolor": "#E5ECF6",
           "showlakes": true,
           "showland": true,
           "subunitcolor": "white"
          },
          "hoverlabel": {
           "align": "left"
          },
          "hovermode": "closest",
          "mapbox": {
           "style": "light"
          },
          "paper_bgcolor": "white",
          "plot_bgcolor": "#E5ECF6",
          "polar": {
           "angularaxis": {
            "gridcolor": "white",
            "linecolor": "white",
            "ticks": ""
           },
           "bgcolor": "#E5ECF6",
           "radialaxis": {
            "gridcolor": "white",
            "linecolor": "white",
            "ticks": ""
           }
          },
          "scene": {
           "xaxis": {
            "backgroundcolor": "#E5ECF6",
            "gridcolor": "white",
            "gridwidth": 2,
            "linecolor": "white",
            "showbackground": true,
            "ticks": "",
            "zerolinecolor": "white"
           },
           "yaxis": {
            "backgroundcolor": "#E5ECF6",
            "gridcolor": "white",
            "gridwidth": 2,
            "linecolor": "white",
            "showbackground": true,
            "ticks": "",
            "zerolinecolor": "white"
           },
           "zaxis": {
            "backgroundcolor": "#E5ECF6",
            "gridcolor": "white",
            "gridwidth": 2,
            "linecolor": "white",
            "showbackground": true,
            "ticks": "",
            "zerolinecolor": "white"
           }
          },
          "shapedefaults": {
           "line": {
            "color": "#2a3f5f"
           }
          },
          "ternary": {
           "aaxis": {
            "gridcolor": "white",
            "linecolor": "white",
            "ticks": ""
           },
           "baxis": {
            "gridcolor": "white",
            "linecolor": "white",
            "ticks": ""
           },
           "bgcolor": "#E5ECF6",
           "caxis": {
            "gridcolor": "white",
            "linecolor": "white",
            "ticks": ""
           }
          },
          "title": {
           "x": 0.05
          },
          "xaxis": {
           "automargin": true,
           "gridcolor": "white",
           "linecolor": "white",
           "ticks": "",
           "title": {
            "standoff": 15
           },
           "zerolinecolor": "white",
           "zerolinewidth": 2
          },
          "yaxis": {
           "automargin": true,
           "gridcolor": "white",
           "linecolor": "white",
           "ticks": "",
           "title": {
            "standoff": 15
           },
           "zerolinecolor": "white",
           "zerolinewidth": 2
          }
         }
        },
        "title": {
         "text": "Category-Based Price and Rating Analysis (Sunburst)"
        }
       }
      }
     },
     "metadata": {},
     "output_type": "display_data"
    }
   ],
   "source": [
    "# Create sunburst chart\n",
    "fig = px.sunburst(\n",
    "    df,\n",
    "    path=['Category'],  # Group by category\n",
    "    values='Price',     # Size of blocks determined by price\n",
    "    color='Rating',     # Color based on ratings\n",
    "    title=\"Category-Based Price and Rating Analysis (Sunburst)\",\n",
    "    color_continuous_scale='magma'\n",
    ")\n",
    "fig.update_traces(textinfo='label+percent parent+percent entry')\n",
    "fig.show()\n"
   ]
  }
 ],
 "metadata": {
  "kernelspec": {
   "display_name": "dvenv",
   "language": "python",
   "name": "python3"
  },
  "language_info": {
   "codemirror_mode": {
    "name": "ipython",
    "version": 3
   },
   "file_extension": ".py",
   "mimetype": "text/x-python",
   "name": "python",
   "nbconvert_exporter": "python",
   "pygments_lexer": "ipython3",
   "version": "3.12.4"
  }
 },
 "nbformat": 4,
 "nbformat_minor": 2
}
