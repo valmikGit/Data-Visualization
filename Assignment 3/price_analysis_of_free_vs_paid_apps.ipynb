{
 "cells": [
  {
   "cell_type": "markdown",
   "metadata": {},
   "source": [
    "## 7. Price Analysis of Free vs. Paid Apps"
   ]
  },
  {
   "cell_type": "markdown",
   "metadata": {},
   "source": [
    "### Step 1: Import Libraries and Load Data"
   ]
  },
  {
   "cell_type": "code",
   "execution_count": null,
   "metadata": {},
   "outputs": [],
   "source": [
    "import pandas as pd\n",
    "import seaborn as sns\n",
    "import matplotlib.pyplot as plt\n",
    "import numpy as np\n",
    "\n",
    "# Load dataset (replace 'dataset.csv' with your file path)\n",
    "df = pd.read_csv('dataset.csv')\n",
    "\n",
    "# Overview of dataset\n",
    "print(\"Dataset Overview:\")\n",
    "print(df.info())\n"
   ]
  },
  {
   "cell_type": "markdown",
   "metadata": {},
   "source": [
    "### Step 2: Data Preprocessing"
   ]
  },
  {
   "cell_type": "code",
   "execution_count": null,
   "metadata": {},
   "outputs": [],
   "source": [
    "# Handle missing values for Price and Rating\n",
    "df['Price'] = pd.to_numeric(df['Price'], errors='coerce').fillna(0)  # Convert Price and fill missing values\n",
    "df['Rating'] = df['Rating'].fillna(df['Rating'].mean())  # Fill missing ratings with mean\n",
    "df['Minimum Installs'] = pd.to_numeric(df['Minimum Installs'], errors='coerce').fillna(0)\n",
    "\n",
    "# Create a new column to classify apps as Free (0) or Paid (1)\n",
    "df['Paid'] = df['Price'].apply(lambda x: 1 if x > 0 else 0)\n",
    "\n",
    "# Verify preprocessing\n",
    "print(df[['Price', 'Paid']].head())\n"
   ]
  },
  {
   "cell_type": "markdown",
   "metadata": {},
   "source": [
    "### Step 3: Visualization"
   ]
  },
  {
   "cell_type": "code",
   "execution_count": null,
   "metadata": {},
   "outputs": [],
   "source": [
    "# Compare Free vs. Paid App Prices Using Box Plots\n",
    "\n",
    "plt.figure(figsize=(10, 6))\n",
    "sns.boxplot(data=df, x='Paid', y='Price', showfliers=False)\n",
    "plt.xticks([0, 1], ['Free', 'Paid'])\n",
    "plt.title('Price Distribution: Free vs. Paid Apps')\n",
    "plt.xlabel('App Type')\n",
    "plt.ylabel('Price')\n",
    "plt.show()\n",
    "\n",
    "# Optional: Include outliers in a separate box plot\n",
    "plt.figure(figsize=(10, 6))\n",
    "sns.boxplot(data=df, x='Paid', y='Price', showfliers=True)\n",
    "plt.xticks([0, 1], ['Free', 'Paid'])\n",
    "plt.title('Price Distribution (With Outliers): Free vs. Paid Apps')\n",
    "plt.xlabel('App Type')\n",
    "plt.ylabel('Price')\n",
    "plt.show()\n"
   ]
  },
  {
   "cell_type": "markdown",
   "metadata": {},
   "source": [
    "### Step 4: Feedback Loop for Deeper Insights"
   ]
  },
  {
   "cell_type": "code",
   "execution_count": null,
   "metadata": {},
   "outputs": [],
   "source": [
    "# User Interaction to Focus on Specific Install Ranges\n",
    "\n",
    "# Prompt user for interaction\n",
    "print(\"\\nFeedback Options:\")\n",
    "print(\"1. Focus on apps with installs over 1 million.\")\n",
    "print(\"2. Focus on apps with installs under 1 million.\")\n",
    "print(\"3. Proceed with the entire dataset.\")\n",
    "choice = int(input(\"Enter your choice (1, 2, or 3): \"))\n",
    "\n",
    "if choice == 1:\n",
    "    filtered_df = df[df['Minimum Installs'] > 1_000_000]\n",
    "    print(f\"Filtered dataset contains {len(filtered_df)} apps with installs over 1 million.\")\n",
    "elif choice == 2:\n",
    "    filtered_df = df[df['Minimum Installs'] <= 1_000_000]\n",
    "    print(f\"Filtered dataset contains {len(filtered_df)} apps with installs under or equal to 1 million.\")\n",
    "elif choice == 3:\n",
    "    filtered_df = df\n",
    "    print(\"Using the entire dataset.\")\n",
    "else:\n",
    "    print(\"Invalid choice. Proceeding with the entire dataset.\")\n",
    "    filtered_df = df\n",
    "\n",
    "# Visualization for filtered dataset\n",
    "plt.figure(figsize=(10, 6))\n",
    "sns.boxplot(data=filtered_df, x='Paid', y='Price', showfliers=False)\n",
    "plt.xticks([0, 1], ['Free', 'Paid'])\n",
    "plt.title('Price Distribution: Free vs. Paid Apps (Filtered)')\n",
    "plt.xlabel('App Type')\n",
    "plt.ylabel('Price')\n",
    "plt.show()\n"
   ]
  },
  {
   "cell_type": "markdown",
   "metadata": {},
   "source": [
    "### Step 5: Analysis of Ratings for Free vs. Paid Apps"
   ]
  },
  {
   "cell_type": "code",
   "execution_count": null,
   "metadata": {},
   "outputs": [],
   "source": [
    "# Visualize Ratings Distribution After Filtering\n",
    "\n",
    "plt.figure(figsize=(10, 6))\n",
    "sns.boxplot(data=filtered_df, x='Paid', y='Rating', showfliers=False)\n",
    "plt.xticks([0, 1], ['Free', 'Paid'])\n",
    "plt.title('Rating Distribution: Free vs. Paid Apps (Filtered)')\n",
    "plt.xlabel('App Type')\n",
    "plt.ylabel('Rating')\n",
    "plt.show()\n"
   ]
  }
 ],
 "metadata": {
  "kernelspec": {
   "display_name": "dvenv",
   "language": "python",
   "name": "python3"
  },
  "language_info": {
   "name": "python",
   "version": "3.12.4"
  }
 },
 "nbformat": 4,
 "nbformat_minor": 2
}
